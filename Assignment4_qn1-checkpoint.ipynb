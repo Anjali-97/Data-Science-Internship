{
 "cells": [
  {
   "cell_type": "code",
   "execution_count": 1,
   "metadata": {},
   "outputs": [
    {
     "name": "stderr",
     "output_type": "stream",
     "text": [
      "[WDM] - ====== WebDriver manager ======\n"
     ]
    },
    {
     "name": "stdout",
     "output_type": "stream",
     "text": [
      "\n",
      "\n"
     ]
    },
    {
     "name": "stderr",
     "output_type": "stream",
     "text": [
      "[WDM] - Current google-chrome version is 88.0.4324\n",
      "[WDM] - Get LATEST driver version for 88.0.4324\n",
      "[WDM] - Get LATEST driver version for 88.0.4324\n",
      "[WDM] - Trying to download new driver from https://chromedriver.storage.googleapis.com/88.0.4324.96/chromedriver_win32.zip\n",
      "[WDM] - Driver has been saved in cache [C:\\Users\\User\\.wdm\\drivers\\chromedriver\\win32\\88.0.4324.96]\n"
     ]
    }
   ],
   "source": [
    "import time\n",
    "import pandas as pd\n",
    "from selenium import webdriver\n",
    "from selenium.common.exceptions import StaleElementReferenceException, NoSuchElementException\n",
    "import requests\n",
    "\n",
    "# importing regex\n",
    "import re\n",
    "\n",
    "from webdriver_manager.chrome import ChromeDriverManager\n",
    "driver = webdriver.Chrome(ChromeDriverManager().install())\n",
    "driver.get(\"https://en.wikipedia.org/wiki/List_of_most-viewed_YouTube_videos\")"
   ]
  },
  {
   "cell_type": "code",
   "execution_count": 2,
   "metadata": {},
   "outputs": [],
   "source": [
    "Rank=[]\n",
    "Name=[]\n",
    "Artist=[]\n",
    "Upload_date=[]\n",
    "Views=[]"
   ]
  },
  {
   "cell_type": "code",
   "execution_count": 3,
   "metadata": {},
   "outputs": [],
   "source": [
    "\n",
    "table=driver.find_element_by_xpath(\"//*[@id='mw-content-text']/div[1]/table[1]\")\n",
    "tbody=table.find_element_by_tag_name(\"tbody\")\n",
    "tr=tbody.find_element_by_xpath(\"//tr[1]\")"
   ]
  },
  {
   "cell_type": "code",
   "execution_count": 4,
   "metadata": {},
   "outputs": [],
   "source": [
    "rank=tr.find_elements_by_xpath(\"//td[1]\")\n",
    "for i in rank:\n",
    "    if i.text is None :\n",
    "        Rank.append(\"--\") \n",
    "    else:\n",
    "        Rank.append(i.text)"
   ]
  },
  {
   "cell_type": "code",
   "execution_count": 5,
   "metadata": {},
   "outputs": [
    {
     "data": {
      "text/plain": [
       "['',\n",
       " '',\n",
       " '1.',\n",
       " '2.',\n",
       " '3.',\n",
       " '4.',\n",
       " '5.',\n",
       " '6.',\n",
       " '7.',\n",
       " '8.',\n",
       " '9.',\n",
       " '10.',\n",
       " '11.',\n",
       " '12.',\n",
       " '13.',\n",
       " '14.',\n",
       " '15.',\n",
       " '16.',\n",
       " '17.',\n",
       " '18.',\n",
       " '19.',\n",
       " '20.',\n",
       " '21.',\n",
       " '22.',\n",
       " '23.',\n",
       " '24.',\n",
       " '25.',\n",
       " '26.',\n",
       " '27.',\n",
       " '28.',\n",
       " '29.',\n",
       " '30.',\n",
       " '',\n",
       " '\"Tarzan Boy\"[56]',\n",
       " '\"Me at the zoo\"[57]',\n",
       " '\"Life Goes On\"[58]',\n",
       " '\"guitar\"[59]',\n",
       " '\"Hurt\"[60]',\n",
       " '\"Galinha Pintadinha – videoclip infantil animado\"[63]',\n",
       " '\"Ella y Yo\"[64]',\n",
       " '\"I Write Sins Not Tragedies\"[65]',\n",
       " '\"Evolution of Dance\"[66]',\n",
       " '\"Hit the Road Jack\"[67]',\n",
       " '\"The Gummy Bear Song\"[70]',\n",
       " '\"Numb\"[71]',\n",
       " '\"Osito Gominola – Full Spanish Version – The Gummy Bear Song\"[72]',\n",
       " '\"Charlie Bit My Finger\"[73]',\n",
       " '\"What I\\'ve Done\"[74]',\n",
       " '\"Bohemian Rhapsody\"[75]',\n",
       " '\"Hot n Cold\"[76]',\n",
       " '\"Pintinho Amarelinho – DVD Galena Pintadinha\"[77]',\n",
       " '\"Viva la Vida\"[78]',\n",
       " '\"Don\\'t Stop Me Now\"[79]',\n",
       " '\"Axel F\"[80]',\n",
       " '\"November Rain\"[81]',\n",
       " '\"Bad Romance\"[82]',\n",
       " '\"Smells Like Teen Spirit\"[83]',\n",
       " '\"Sweet Child o\\' Mine\"[84]',\n",
       " '\"Waka Waka (This Time for Africa)\"[53]',\n",
       " '\"Baby\"[85]',\n",
       " '\"Love the Way You Lie\"[86]',\n",
       " '\"Rolling in the Deep\"[87]',\n",
       " '\"Just the Way You Are\"[88]',\n",
       " '\"The Lazy Song\"[89]',\n",
       " '\"Party Rock Anthem\"[90]',\n",
       " '\"A Thousand Years\"[91]',\n",
       " '\"On the Floor\"[92]',\n",
       " '\"Someone like You\"[93]',\n",
       " '\"Masha and the Bear – Recipe for Disaster\"[30]',\n",
       " '\"Gangnam Style\"[32]',\n",
       " '\"Let Her Go\"[49]',\n",
       " '\"Diamonds\"[94]',\n",
       " '\"Thrift Shop\"[95]',\n",
       " '\"Roar\"[39]',\n",
       " '\"Counting Stars\"[40]',\n",
       " '\"Wake Me Up\"[96]',\n",
       " '\"Rude\"[97]',\n",
       " '\"All of Me\"[98]',\n",
       " '\"Uptown Funk\"[31]',\n",
       " '\"Phonics Song with Two Words\"[36]',\n",
       " '\"Thinking Out Loud\"[41]',\n",
       " '\"Shake It Off\"[43]',\n",
       " '\"Bailando\"[47]',\n",
       " '\"See You Again\"[26]',\n",
       " '\"Sorry\"[37]',\n",
       " '\"Sugar\"[38]',\n",
       " '\"Faded\"[44]',\n",
       " '\"Lean On\"[46]',\n",
       " '\"Baby Shark Dance\"[22]',\n",
       " '\"Johny Johny Yes Papa\"[29]',\n",
       " '\"Chantaje\"[55]',\n",
       " '\"Closer (Lyric video)\"[99]',\n",
       " '\"We Don\\'t Talk Anymore\"[100]',\n",
       " '\"Despacito\"[24]',\n",
       " '\"Shape of You\"[25]',\n",
       " '\"Mi Gente\"[50]',\n",
       " '\"Perfect\"[52]',\n",
       " '\"New Rules\"[101]',\n",
       " '\"Learning Colors – Colorful Eggs on a Farm\"[34]',\n",
       " '\"Bath Song\"[35]',\n",
       " '\"Dame Tu Cosita\"[42]',\n",
       " '\"Girls Like You\"[48]',\n",
       " '\"Yes Yes Vegetables Song\"[102]',\n",
       " '\"Con Calma\"[103]',\n",
       " '\"Con Altura\"[104]',\n",
       " '\"China\"[105]',\n",
       " '\"Dance Monkey\"[106]',\n",
       " '\"No Me Conoce (Remix)\"[107]',\n",
       " '\"Life Is Good\"[108]',\n",
       " '\"Dynamite\"[109]',\n",
       " '\"How You Like That\"[110]',\n",
       " '\"Genda Phool\"[111]',\n",
       " '\"Gooba\"[112]',\n",
       " '\"Baby Shark Dance\"[22]',\n",
       " '\"Despacito\"[24]',\n",
       " '\"See You Again\"[26]',\n",
       " '\"Gangnam Style\"⁂[32]',\n",
       " '\"Baby\"*[85]',\n",
       " '\"Bad Romance\"[82]',\n",
       " '\"Charlie Bit My Finger\"[73]',\n",
       " '\"Evolution of Dance\"[66]',\n",
       " '\"Girlfriend\"‡[122][123]',\n",
       " '\"Evolution of Dance\"[66]',\n",
       " '\"Music Is My Hot Hot Sex\"‡[126]',\n",
       " '\"Evolution of Dance\"*[66]',\n",
       " '\"Pokemon Theme Music Video\"‡[131]',\n",
       " '\"Myspace – The Movie\"‡[135][136]',\n",
       " '\"Phony Photo Booth\"‡[138]',\n",
       " '\"The Chronic of Narnia Rap\"‡[140]',\n",
       " '\"Ronaldinho: Touch of Gold\"‡*[142]',\n",
       " '\"I/O Brush\"‡*[145]',\n",
       " '\"Me at the zoo\"[57]',\n",
       " '',\n",
       " '',\n",
       " '',\n",
       " '',\n",
       " '',\n",
       " '',\n",
       " '',\n",
       " '',\n",
       " '',\n",
       " '',\n",
       " '',\n",
       " '',\n",
       " '',\n",
       " '',\n",
       " '']"
      ]
     },
     "execution_count": 5,
     "metadata": {},
     "output_type": "execute_result"
    }
   ],
   "source": [
    "Rank"
   ]
  },
  {
   "cell_type": "code",
   "execution_count": null,
   "metadata": {},
   "outputs": [],
   "source": []
  }
 ],
 "metadata": {
  "kernelspec": {
   "display_name": "Python 3",
   "language": "python",
   "name": "python3"
  },
  "language_info": {
   "codemirror_mode": {
    "name": "ipython",
    "version": 3
   },
   "file_extension": ".py",
   "mimetype": "text/x-python",
   "name": "python",
   "nbconvert_exporter": "python",
   "pygments_lexer": "ipython3",
   "version": "3.8.5"
  }
 },
 "nbformat": 4,
 "nbformat_minor": 4
}
