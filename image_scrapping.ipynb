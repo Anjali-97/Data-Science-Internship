{
 "cells": [
  {
   "cell_type": "code",
   "execution_count": 3,
   "id": "4476a1e8",
   "metadata": {},
   "outputs": [],
   "source": [
    "from selenium import webdriver\n",
    "import os"
   ]
  },
  {
   "cell_type": "code",
   "execution_count": 2,
   "id": "c5fed5e4",
   "metadata": {},
   "outputs": [
    {
     "name": "stdout",
     "output_type": "stream",
     "text": [
      "Collecting selenium\n",
      "  Downloading selenium-3.141.0-py2.py3-none-any.whl (904 kB)\n",
      "Requirement already satisfied: urllib3 in d:\\users\\sunnyanj\\anaconda3\\lib\\site-packages (from selenium) (1.26.4)\n",
      "Installing collected packages: selenium\n",
      "Successfully installed selenium-3.141.0\n",
      "Note: you may need to restart the kernel to use updated packages.\n"
     ]
    }
   ],
   "source": [
    "pip install selenium"
   ]
  },
  {
   "cell_type": "code",
   "execution_count": 7,
   "id": "0335ced1",
   "metadata": {},
   "outputs": [],
   "source": [
    "driver= webdriver.Chrome(executable_path=\"chromedriver.exe\")"
   ]
  },
  {
   "cell_type": "code",
   "execution_count": 8,
   "id": "227066e6",
   "metadata": {},
   "outputs": [],
   "source": [
    "#Making the directory\n",
    "def directory(dir):\n",
    "    current_path=os.getcwd()\n",
    "    new=os.path.join(current_path,dir)\n",
    "    if not os.path.exists(new):\n",
    "        os.makedirs(new)len(sarees_images)"
   ]
  },
  {
   "cell_type": "code",
   "execution_count": 9,
   "id": "d86f594c",
   "metadata": {},
   "outputs": [],
   "source": [
    "directory('Jeans Men')"
   ]
  },
  {
   "cell_type": "code",
   "execution_count": 10,
   "id": "91fd9ffd",
   "metadata": {},
   "outputs": [],
   "source": [
    "directory('Sarees Women')"
   ]
  },
  {
   "cell_type": "code",
   "execution_count": 11,
   "id": "aa6d76d0",
   "metadata": {},
   "outputs": [],
   "source": [
    "directory('Trousers Men')"
   ]
  },
  {
   "cell_type": "code",
   "execution_count": 12,
   "id": "19a487ec",
   "metadata": {},
   "outputs": [],
   "source": [
    "my_page=driver.get('https://www.amazon.in/s?k=women+sarees&ref=nb_sb_noss_1')"
   ]
  },
  {
   "cell_type": "code",
   "execution_count": 13,
   "id": "a002d43c",
   "metadata": {},
   "outputs": [],
   "source": [
    "sarees_images=driver.find_elements_by_xpath(\"//img[@class ='s-image' ]\")"
   ]
  },
  {
   "cell_type": "code",
   "execution_count": 14,
   "id": "651863b5",
   "metadata": {},
   "outputs": [
    {
     "data": {
      "text/plain": [
       "73"
      ]
     },
     "execution_count": 14,
     "metadata": {},
     "output_type": "execute_result"
    }
   ],
   "source": [
    "len(sarees_images)"
   ]
  },
  {
   "cell_type": "code",
   "execution_count": 15,
   "id": "1ff6d13d",
   "metadata": {},
   "outputs": [
    {
     "ename": "NameError",
     "evalue": "name 'images' is not defined",
     "output_type": "error",
     "traceback": [
      "\u001b[1;31m---------------------------------------------------------------------------\u001b[0m",
      "\u001b[1;31mNameError\u001b[0m                                 Traceback (most recent call last)",
      "\u001b[1;32m<ipython-input-15-b4094cb7f6a0>\u001b[0m in \u001b[0;36m<module>\u001b[1;34m\u001b[0m\n\u001b[1;32m----> 1\u001b[1;33m \u001b[0mimages\u001b[0m\u001b[1;33m[\u001b[0m\u001b[1;36m0\u001b[0m\u001b[1;33m]\u001b[0m\u001b[1;33m\u001b[0m\u001b[1;33m\u001b[0m\u001b[0m\n\u001b[0m",
      "\u001b[1;31mNameError\u001b[0m: name 'images' is not defined"
     ]
    }
   ],
   "source": [
    "images[0]"
   ]
  },
  {
   "cell_type": "code",
   "execution_count": 16,
   "id": "259d0652",
   "metadata": {},
   "outputs": [
    {
     "name": "stdout",
     "output_type": "stream",
     "text": [
      "https://m.media-amazon.com/images/I/61MvfTLNxNL._AC_UL320_.jpg\n",
      "https://m.media-amazon.com/images/I/81dIBsiZbuL._AC_UL320_.jpg\n",
      "https://m.media-amazon.com/images/I/81-geopxFvS._AC_UL320_.jpg\n",
      "https://m.media-amazon.com/images/I/61yTPG0qRLL._AC_UL320_.jpg\n",
      "https://m.media-amazon.com/images/I/41nwPDJDUvL._AC_UL320_.jpg\n",
      "https://m.media-amazon.com/images/I/91EbhDIBEpS._AC_UL320_.jpg\n",
      "https://m.media-amazon.com/images/I/91WCQ88UV5L._AC_UL320_.jpg\n",
      "https://m.media-amazon.com/images/I/81j-y-KWb6L._AC_UL320_.jpg\n",
      "https://m.media-amazon.com/images/I/913bOgy3WSL._AC_UL320_.jpg\n",
      "https://m.media-amazon.com/images/I/71SUNh9g6bL._AC_UL320_.jpg\n",
      "https://m.media-amazon.com/images/I/912Q3BqVtpL._AC_UL320_.jpg\n",
      "https://m.media-amazon.com/images/I/91i7T2khq4L._AC_UL320_.jpg\n",
      "https://images-eu.ssl-images-amazon.com/images/S/amazon-avatars-global/aa8a2144-7305-4eb7-aeac-639c8510074c._CR0,0,500,500_SX50_._TTW_.jpg\n",
      "https://m.media-amazon.com/images/I/715NYXDhD-L._AC_UL320_.jpg\n",
      "https://m.media-amazon.com/images/I/81JE98ug38L._AC_UL320_.jpg\n",
      "https://m.media-amazon.com/images/I/713f+6CnyNL._AC_UL320_.jpg\n",
      "https://m.media-amazon.com/images/I/91F35Uh2axL._AC_UL320_.jpg\n",
      "https://m.media-amazon.com/images/I/81XKaSKvlyL._AC_UL320_.jpg\n",
      "https://m.media-amazon.com/images/I/91VBQLLhk-L._AC_UL320_.jpg\n",
      "https://m.media-amazon.com/images/I/A1tFsM3g3vL._AC_UL320_.jpg\n",
      "https://m.media-amazon.com/images/I/71sM396zsDL._AC_UL320_.jpg\n",
      "https://m.media-amazon.com/images/I/81HCWzL9J-L._AC_UL320_.jpg\n",
      "https://m.media-amazon.com/images/I/91yPghSgR8L._AC_UL320_.jpg\n",
      "https://m.media-amazon.com/images/I/910KJPiGcYL._AC_UL320_.jpg\n",
      "https://m.media-amazon.com/images/I/91dDMDg+QTL._AC_UL320_.jpg\n",
      "https://m.media-amazon.com/images/I/91RLBThNNhL._AC_UL320_.jpg\n",
      "https://m.media-amazon.com/images/I/61lIqW3EzmL._AC_UL320_.jpg\n",
      "https://m.media-amazon.com/images/I/71v25XUM21L._AC_UL320_.jpg\n",
      "https://m.media-amazon.com/images/I/81JxWA-m4SL._AC_UL320_.jpg\n",
      "https://m.media-amazon.com/images/I/51VRukJIh6L._AC_UL320_.jpg\n",
      "https://m.media-amazon.com/images/I/9165F3WUCEL._AC_UL320_.jpg\n",
      "https://m.media-amazon.com/images/I/91x5ssfAA6S._AC_UL320_.jpg\n",
      "https://m.media-amazon.com/images/I/91qoMPJhBES._AC_UL320_.jpg\n",
      "https://m.media-amazon.com/images/I/81vYNImJ+QL._AC_UL320_.jpg\n",
      "https://m.media-amazon.com/images/I/81W0sh+Mg-L._AC_UL320_.jpg\n",
      "https://m.media-amazon.com/images/I/71S77u9dZCL._AC_UL320_.jpg\n",
      "https://m.media-amazon.com/images/I/51jjzyZvzZS._AC_UL320_.jpg\n",
      "https://m.media-amazon.com/images/I/91km2Teuz+L._AC_UL320_.jpg\n",
      "https://m.media-amazon.com/images/I/412pEwRkOBS._AC_UL320_.jpg\n",
      "https://m.media-amazon.com/images/I/91k+Deok71L._AC_UL320_.jpg\n",
      "https://m.media-amazon.com/images/I/917c4qQLVJL._AC_UL320_.jpg\n",
      "https://m.media-amazon.com/images/I/71xE92l+GGL._AC_UL320_.jpg\n",
      "https://m.media-amazon.com/images/I/91aXNeBnf5S._AC_UL320_.jpg\n",
      "https://m.media-amazon.com/images/I/81dkSgs7nsL._AC_UL320_.jpg\n",
      "https://m.media-amazon.com/images/I/91GKFgnS5uL._AC_UL320_.jpg\n",
      "https://m.media-amazon.com/images/I/913VtoIq8DL._AC_UL320_.jpg\n",
      "https://m.media-amazon.com/images/I/617o6EOrzIL._AC_UL320_.jpg\n",
      "https://m.media-amazon.com/images/I/81JE98ug38L._AC_UL320_.jpg\n",
      "https://m.media-amazon.com/images/I/91UdXgFeHLL._AC_UL320_.jpg\n",
      "https://m.media-amazon.com/images/I/81Pks4Q52wL._AC_UL320_.jpg\n",
      "https://m.media-amazon.com/images/I/91fJ02dGrRS._AC_UL320_.jpg\n",
      "https://m.media-amazon.com/images/I/81XKaSKvlyL._AC_UL320_.jpg\n",
      "https://m.media-amazon.com/images/I/81OBaDtwVoL._AC_UL320_.jpg\n",
      "https://m.media-amazon.com/images/I/91J92wiWVML._AC_UL320_.jpg\n",
      "https://m.media-amazon.com/images/I/81jjipfftHL._AC_UL320_.jpg\n",
      "https://m.media-amazon.com/images/I/91jiNM7DMTS._AC_UL320_.jpg\n",
      "https://m.media-amazon.com/images/I/91Yxs3dhdYL._AC_UL320_.jpg\n",
      "https://m.media-amazon.com/images/I/81Y+je7CEgL._AC_UL320_.jpg\n",
      "https://m.media-amazon.com/images/I/81Ln2cqtsLL._AC_UL320_.jpg\n",
      "https://m.media-amazon.com/images/I/81kHhejKHaL._AC_UL320_.jpg\n",
      "https://m.media-amazon.com/images/I/61YoVkc+1JL._AC_UL320_.jpg\n",
      "https://m.media-amazon.com/images/I/61EvPLNdVBL._AC_UL320_.jpg\n",
      "https://m.media-amazon.com/images/I/91t5OJz70CL._AC_UL320_.jpg\n",
      "https://m.media-amazon.com/images/I/61vvC0ufiXL._AC_UL320_.jpg\n",
      "https://m.media-amazon.com/images/I/51VRukJIh6L._AC_UL320_.jpg\n",
      "https://m.media-amazon.com/images/I/61dbP1wFneL._AC_UL320_.jpg\n",
      "https://m.media-amazon.com/images/I/61SXA9TdnJL._AC_UL320_.jpg\n",
      "https://m.media-amazon.com/images/I/810bWMiAmaL._AC_UL320_.jpg\n",
      "https://m.media-amazon.com/images/I/91nJOE7VDhL._AC_UL320_.jpg\n",
      "https://m.media-amazon.com/images/I/71TJ9p46PVL._AC_UL320_.jpg\n",
      "https://m.media-amazon.com/images/I/71plrUxlGxL._AC_UL320_.jpg\n",
      "https://m.media-amazon.com/images/I/810ppvdOkxS._AC_UL320_.jpg\n",
      "https://m.media-amazon.com/images/I/81hgiFtghzL._AC_UL320_.jpg\n"
     ]
    }
   ],
   "source": [
    "urls=[]\n",
    "for saree_image in sarees_images:\n",
    "    source = saree_image.get_attribute('src')\n",
    "    urls.append(source)\n",
    "    print(source)"
   ]
  },
  {
   "cell_type": "code",
   "execution_count": 17,
   "id": "2a9d5e83",
   "metadata": {},
   "outputs": [
    {
     "data": {
      "text/plain": [
       "73"
      ]
     },
     "execution_count": 17,
     "metadata": {},
     "output_type": "execute_result"
    }
   ],
   "source": [
    "len(urls)"
   ]
  },
  {
   "cell_type": "code",
   "execution_count": 18,
   "id": "c58f2f27",
   "metadata": {},
   "outputs": [
    {
     "data": {
      "text/plain": [
       "62"
      ]
     },
     "execution_count": 18,
     "metadata": {},
     "output_type": "execute_result"
    }
   ],
   "source": [
    "len(source)"
   ]
  },
  {
   "cell_type": "code",
   "execution_count": 19,
   "id": "130568a6",
   "metadata": {},
   "outputs": [],
   "source": [
    "\n",
    "#Download Images\n",
    "import shutil\n",
    "import requests"
   ]
  },
  {
   "cell_type": "code",
   "execution_count": 20,
   "id": "4047253d",
   "metadata": {},
   "outputs": [
    {
     "name": "stdout",
     "output_type": "stream",
     "text": [
      "Downloading 1 of 73 images for page 1\n",
      "Downloading 2 of 73 images for page 1\n",
      "Downloading 3 of 73 images for page 1\n",
      "Downloading 4 of 73 images for page 1\n",
      "Downloading 5 of 73 images for page 1\n",
      "Downloading 6 of 73 images for page 1\n",
      "Downloading 7 of 73 images for page 1\n",
      "Downloading 8 of 73 images for page 1\n",
      "Downloading 9 of 73 images for page 1\n",
      "Downloading 10 of 73 images for page 1\n",
      "Downloading 11 of 73 images for page 1\n",
      "Downloading 12 of 73 images for page 1\n",
      "Downloading 13 of 73 images for page 1\n",
      "Downloading 14 of 73 images for page 1\n",
      "Downloading 15 of 73 images for page 1\n",
      "Downloading 16 of 73 images for page 1\n",
      "Downloading 17 of 73 images for page 1\n",
      "Downloading 18 of 73 images for page 1\n",
      "Downloading 19 of 73 images for page 1\n",
      "Downloading 20 of 73 images for page 1\n",
      "Downloading 21 of 73 images for page 1\n",
      "Downloading 22 of 73 images for page 1\n",
      "Downloading 23 of 73 images for page 1\n",
      "Downloading 24 of 73 images for page 1\n",
      "Downloading 25 of 73 images for page 1\n",
      "Downloading 26 of 73 images for page 1\n",
      "Downloading 27 of 73 images for page 1\n",
      "Downloading 28 of 73 images for page 1\n",
      "Downloading 29 of 73 images for page 1\n",
      "Downloading 30 of 73 images for page 1\n",
      "Downloading 31 of 73 images for page 1\n",
      "Downloading 32 of 73 images for page 1\n",
      "Downloading 33 of 73 images for page 1\n",
      "Downloading 34 of 73 images for page 1\n",
      "Downloading 35 of 73 images for page 1\n",
      "Downloading 36 of 73 images for page 1\n",
      "Downloading 37 of 73 images for page 1\n",
      "Downloading 38 of 73 images for page 1\n",
      "Downloading 39 of 73 images for page 1\n",
      "Downloading 40 of 73 images for page 1\n",
      "Downloading 41 of 73 images for page 1\n",
      "Downloading 42 of 73 images for page 1\n",
      "Downloading 43 of 73 images for page 1\n",
      "Downloading 44 of 73 images for page 1\n",
      "Downloading 45 of 73 images for page 1\n",
      "Downloading 46 of 73 images for page 1\n",
      "Downloading 47 of 73 images for page 1\n",
      "Downloading 48 of 73 images for page 1\n",
      "Downloading 49 of 73 images for page 1\n",
      "Downloading 50 of 73 images for page 1\n",
      "Downloading 51 of 73 images for page 1\n",
      "Downloading 52 of 73 images for page 1\n",
      "Downloading 53 of 73 images for page 1\n",
      "Downloading 54 of 73 images for page 1\n",
      "Downloading 55 of 73 images for page 1\n",
      "Downloading 56 of 73 images for page 1\n",
      "Downloading 57 of 73 images for page 1\n",
      "Downloading 58 of 73 images for page 1\n",
      "Downloading 59 of 73 images for page 1\n",
      "Downloading 60 of 73 images for page 1\n",
      "Downloading 61 of 73 images for page 1\n",
      "Downloading 62 of 73 images for page 1\n",
      "Downloading 63 of 73 images for page 1\n",
      "Downloading 64 of 73 images for page 1\n",
      "Downloading 65 of 73 images for page 1\n",
      "Downloading 66 of 73 images for page 1\n",
      "Downloading 67 of 73 images for page 1\n",
      "Downloading 68 of 73 images for page 1\n",
      "Downloading 69 of 73 images for page 1\n",
      "Downloading 70 of 73 images for page 1\n",
      "Downloading 71 of 73 images for page 1\n",
      "Downloading 72 of 73 images for page 1\n",
      "Downloading 73 of 73 images for page 1\n"
     ]
    }
   ],
   "source": [
    "page=1\n",
    "for index, link in enumerate(urls):\n",
    "    print('Downloading {0} of {1} images for page 1'.format(index+1, len(urls)))\n",
    "    response=requests.get(link)\n",
    "    with open('Sarees Women/img{0}{1}.jpeg'.format(index,page),\"wb\")as file:\n",
    "        file.write(response.content)"
   ]
  },
  {
   "cell_type": "code",
   "execution_count": 23,
   "id": "522f1708",
   "metadata": {},
   "outputs": [],
   "source": [
    "#Now, we find the 'Next' button using x_path and using selenium we click it.\n",
    "next_page=driver.find_element_by_xpath(\"//li[@class = 'a-last']//a\").click()"
   ]
  },
  {
   "cell_type": "code",
   "execution_count": 22,
   "id": "08a95209",
   "metadata": {},
   "outputs": [],
   "source": [
    "sarees_images=driver.find_elements_by_xpath(\"//img[@class ='s-image' ]\")"
   ]
  },
  {
   "cell_type": "code",
   "execution_count": 24,
   "id": "4c4ee707",
   "metadata": {},
   "outputs": [
    {
     "data": {
      "text/plain": [
       "50"
      ]
     },
     "execution_count": 24,
     "metadata": {},
     "output_type": "execute_result"
    }
   ],
   "source": [
    "len(sarees_images)"
   ]
  },
  {
   "cell_type": "code",
   "execution_count": 25,
   "id": "4caf6479",
   "metadata": {},
   "outputs": [
    {
     "ename": "StaleElementReferenceException",
     "evalue": "Message: stale element reference: element is not attached to the page document\n  (Session info: chrome=91.0.4472.124)\n",
     "output_type": "error",
     "traceback": [
      "\u001b[1;31m---------------------------------------------------------------------------\u001b[0m",
      "\u001b[1;31mStaleElementReferenceException\u001b[0m            Traceback (most recent call last)",
      "\u001b[1;32m<ipython-input-25-2386864ede66>\u001b[0m in \u001b[0;36m<module>\u001b[1;34m\u001b[0m\n\u001b[0;32m      1\u001b[0m \u001b[0murls\u001b[0m\u001b[1;33m=\u001b[0m\u001b[1;33m[\u001b[0m\u001b[1;33m]\u001b[0m\u001b[1;33m\u001b[0m\u001b[1;33m\u001b[0m\u001b[0m\n\u001b[0;32m      2\u001b[0m \u001b[1;32mfor\u001b[0m \u001b[0msaree_image\u001b[0m \u001b[1;32min\u001b[0m \u001b[0msarees_images\u001b[0m\u001b[1;33m:\u001b[0m\u001b[1;33m\u001b[0m\u001b[1;33m\u001b[0m\u001b[0m\n\u001b[1;32m----> 3\u001b[1;33m     \u001b[0msource\u001b[0m \u001b[1;33m=\u001b[0m \u001b[0msaree_image\u001b[0m\u001b[1;33m.\u001b[0m\u001b[0mget_attribute\u001b[0m\u001b[1;33m(\u001b[0m\u001b[1;34m'src'\u001b[0m\u001b[1;33m)\u001b[0m\u001b[1;33m\u001b[0m\u001b[1;33m\u001b[0m\u001b[0m\n\u001b[0m\u001b[0;32m      4\u001b[0m     \u001b[0murls\u001b[0m\u001b[1;33m.\u001b[0m\u001b[0mappend\u001b[0m\u001b[1;33m(\u001b[0m\u001b[0msource\u001b[0m\u001b[1;33m)\u001b[0m\u001b[1;33m\u001b[0m\u001b[1;33m\u001b[0m\u001b[0m\n\u001b[0;32m      5\u001b[0m     \u001b[0mprint\u001b[0m\u001b[1;33m(\u001b[0m\u001b[0msource\u001b[0m\u001b[1;33m)\u001b[0m\u001b[1;33m\u001b[0m\u001b[1;33m\u001b[0m\u001b[0m\n",
      "\u001b[1;32m~\\Anaconda3\\lib\\site-packages\\selenium\\webdriver\\remote\\webelement.py\u001b[0m in \u001b[0;36mget_attribute\u001b[1;34m(self, name)\u001b[0m\n\u001b[0;32m    137\u001b[0m         \u001b[0mattributeValue\u001b[0m \u001b[1;33m=\u001b[0m \u001b[1;34m''\u001b[0m\u001b[1;33m\u001b[0m\u001b[1;33m\u001b[0m\u001b[0m\n\u001b[0;32m    138\u001b[0m         \u001b[1;32mif\u001b[0m \u001b[0mself\u001b[0m\u001b[1;33m.\u001b[0m\u001b[0m_w3c\u001b[0m\u001b[1;33m:\u001b[0m\u001b[1;33m\u001b[0m\u001b[1;33m\u001b[0m\u001b[0m\n\u001b[1;32m--> 139\u001b[1;33m             attributeValue = self.parent.execute_script(\n\u001b[0m\u001b[0;32m    140\u001b[0m                 \u001b[1;34m\"return (%s).apply(null, arguments);\"\u001b[0m \u001b[1;33m%\u001b[0m \u001b[0mgetAttribute_js\u001b[0m\u001b[1;33m,\u001b[0m\u001b[1;33m\u001b[0m\u001b[1;33m\u001b[0m\u001b[0m\n\u001b[0;32m    141\u001b[0m                 self, name)\n",
      "\u001b[1;32m~\\Anaconda3\\lib\\site-packages\\selenium\\webdriver\\remote\\webdriver.py\u001b[0m in \u001b[0;36mexecute_script\u001b[1;34m(self, script, *args)\u001b[0m\n\u001b[0;32m    632\u001b[0m             \u001b[0mcommand\u001b[0m \u001b[1;33m=\u001b[0m \u001b[0mCommand\u001b[0m\u001b[1;33m.\u001b[0m\u001b[0mEXECUTE_SCRIPT\u001b[0m\u001b[1;33m\u001b[0m\u001b[1;33m\u001b[0m\u001b[0m\n\u001b[0;32m    633\u001b[0m \u001b[1;33m\u001b[0m\u001b[0m\n\u001b[1;32m--> 634\u001b[1;33m         return self.execute(command, {\n\u001b[0m\u001b[0;32m    635\u001b[0m             \u001b[1;34m'script'\u001b[0m\u001b[1;33m:\u001b[0m \u001b[0mscript\u001b[0m\u001b[1;33m,\u001b[0m\u001b[1;33m\u001b[0m\u001b[1;33m\u001b[0m\u001b[0m\n\u001b[0;32m    636\u001b[0m             'args': converted_args})['value']\n",
      "\u001b[1;32m~\\Anaconda3\\lib\\site-packages\\selenium\\webdriver\\remote\\webdriver.py\u001b[0m in \u001b[0;36mexecute\u001b[1;34m(self, driver_command, params)\u001b[0m\n\u001b[0;32m    319\u001b[0m         \u001b[0mresponse\u001b[0m \u001b[1;33m=\u001b[0m \u001b[0mself\u001b[0m\u001b[1;33m.\u001b[0m\u001b[0mcommand_executor\u001b[0m\u001b[1;33m.\u001b[0m\u001b[0mexecute\u001b[0m\u001b[1;33m(\u001b[0m\u001b[0mdriver_command\u001b[0m\u001b[1;33m,\u001b[0m \u001b[0mparams\u001b[0m\u001b[1;33m)\u001b[0m\u001b[1;33m\u001b[0m\u001b[1;33m\u001b[0m\u001b[0m\n\u001b[0;32m    320\u001b[0m         \u001b[1;32mif\u001b[0m \u001b[0mresponse\u001b[0m\u001b[1;33m:\u001b[0m\u001b[1;33m\u001b[0m\u001b[1;33m\u001b[0m\u001b[0m\n\u001b[1;32m--> 321\u001b[1;33m             \u001b[0mself\u001b[0m\u001b[1;33m.\u001b[0m\u001b[0merror_handler\u001b[0m\u001b[1;33m.\u001b[0m\u001b[0mcheck_response\u001b[0m\u001b[1;33m(\u001b[0m\u001b[0mresponse\u001b[0m\u001b[1;33m)\u001b[0m\u001b[1;33m\u001b[0m\u001b[1;33m\u001b[0m\u001b[0m\n\u001b[0m\u001b[0;32m    322\u001b[0m             response['value'] = self._unwrap_value(\n\u001b[0;32m    323\u001b[0m                 response.get('value', None))\n",
      "\u001b[1;32m~\\Anaconda3\\lib\\site-packages\\selenium\\webdriver\\remote\\errorhandler.py\u001b[0m in \u001b[0;36mcheck_response\u001b[1;34m(self, response)\u001b[0m\n\u001b[0;32m    240\u001b[0m                 \u001b[0malert_text\u001b[0m \u001b[1;33m=\u001b[0m \u001b[0mvalue\u001b[0m\u001b[1;33m[\u001b[0m\u001b[1;34m'alert'\u001b[0m\u001b[1;33m]\u001b[0m\u001b[1;33m.\u001b[0m\u001b[0mget\u001b[0m\u001b[1;33m(\u001b[0m\u001b[1;34m'text'\u001b[0m\u001b[1;33m)\u001b[0m\u001b[1;33m\u001b[0m\u001b[1;33m\u001b[0m\u001b[0m\n\u001b[0;32m    241\u001b[0m             \u001b[1;32mraise\u001b[0m \u001b[0mexception_class\u001b[0m\u001b[1;33m(\u001b[0m\u001b[0mmessage\u001b[0m\u001b[1;33m,\u001b[0m \u001b[0mscreen\u001b[0m\u001b[1;33m,\u001b[0m \u001b[0mstacktrace\u001b[0m\u001b[1;33m,\u001b[0m \u001b[0malert_text\u001b[0m\u001b[1;33m)\u001b[0m\u001b[1;33m\u001b[0m\u001b[1;33m\u001b[0m\u001b[0m\n\u001b[1;32m--> 242\u001b[1;33m         \u001b[1;32mraise\u001b[0m \u001b[0mexception_class\u001b[0m\u001b[1;33m(\u001b[0m\u001b[0mmessage\u001b[0m\u001b[1;33m,\u001b[0m \u001b[0mscreen\u001b[0m\u001b[1;33m,\u001b[0m \u001b[0mstacktrace\u001b[0m\u001b[1;33m)\u001b[0m\u001b[1;33m\u001b[0m\u001b[1;33m\u001b[0m\u001b[0m\n\u001b[0m\u001b[0;32m    243\u001b[0m \u001b[1;33m\u001b[0m\u001b[0m\n\u001b[0;32m    244\u001b[0m     \u001b[1;32mdef\u001b[0m \u001b[0m_value_or_default\u001b[0m\u001b[1;33m(\u001b[0m\u001b[0mself\u001b[0m\u001b[1;33m,\u001b[0m \u001b[0mobj\u001b[0m\u001b[1;33m,\u001b[0m \u001b[0mkey\u001b[0m\u001b[1;33m,\u001b[0m \u001b[0mdefault\u001b[0m\u001b[1;33m)\u001b[0m\u001b[1;33m:\u001b[0m\u001b[1;33m\u001b[0m\u001b[1;33m\u001b[0m\u001b[0m\n",
      "\u001b[1;31mStaleElementReferenceException\u001b[0m: Message: stale element reference: element is not attached to the page document\n  (Session info: chrome=91.0.4472.124)\n"
     ]
    }
   ],
   "source": [
    "urls=[]\n",
    "for saree_image in sarees_images:\n",
    "    source = saree_image.get_attribute('src')\n",
    "    urls.append(source)\n",
    "    print(source)"
   ]
  },
  {
   "cell_type": "code",
   "execution_count": 26,
   "id": "fd34d3d1",
   "metadata": {},
   "outputs": [],
   "source": [
    "page=2\n",
    "for index, link in enumerate(urls):\n",
    "    print('Downloading {0} of {1} images for page 2'.format(index+1, len(urls)))\n",
    "    response=requests.get(link)\n",
    "    with open('Sarees Women/img{0}{1}.jpeg'.format(index,page),\"wb\")as file:\n",
    "        file.write(response.content)"
   ]
  },
  {
   "cell_type": "code",
   "execution_count": 27,
   "id": "51cb6398",
   "metadata": {},
   "outputs": [],
   "source": [
    "#Now, we find the 'Next' button using x_path and using selenium we click it.\n",
    "next_page=driver.find_element_by_xpath(\"//li[@class = 'a-last']//a\").click()"
   ]
  },
  {
   "cell_type": "code",
   "execution_count": 28,
   "id": "7c387162",
   "metadata": {},
   "outputs": [],
   "source": [
    "sarees_images=driver.find_elements_by_xpath(\"//img[@class ='s-image' ]\")"
   ]
  },
  {
   "cell_type": "code",
   "execution_count": 29,
   "id": "9788b92a",
   "metadata": {},
   "outputs": [
    {
     "data": {
      "text/plain": [
       "60"
      ]
     },
     "execution_count": 29,
     "metadata": {},
     "output_type": "execute_result"
    }
   ],
   "source": [
    "len(sarees_images)"
   ]
  },
  {
   "cell_type": "code",
   "execution_count": 33,
   "id": "c11efca8",
   "metadata": {},
   "outputs": [
    {
     "name": "stdout",
     "output_type": "stream",
     "text": [
      "Downloading 1 of 60 images for page 3\n",
      "Downloading 2 of 60 images for page 3\n",
      "Downloading 3 of 60 images for page 3\n",
      "Downloading 4 of 60 images for page 3\n",
      "Downloading 5 of 60 images for page 3\n",
      "Downloading 6 of 60 images for page 3\n",
      "Downloading 7 of 60 images for page 3\n",
      "Downloading 8 of 60 images for page 3\n",
      "Downloading 9 of 60 images for page 3\n",
      "Downloading 10 of 60 images for page 3\n",
      "Downloading 11 of 60 images for page 3\n",
      "Downloading 12 of 60 images for page 3\n",
      "Downloading 13 of 60 images for page 3\n",
      "Downloading 14 of 60 images for page 3\n",
      "Downloading 15 of 60 images for page 3\n",
      "Downloading 16 of 60 images for page 3\n",
      "Downloading 17 of 60 images for page 3\n",
      "Downloading 18 of 60 images for page 3\n",
      "Downloading 19 of 60 images for page 3\n",
      "Downloading 20 of 60 images for page 3\n",
      "Downloading 21 of 60 images for page 3\n",
      "Downloading 22 of 60 images for page 3\n",
      "Downloading 23 of 60 images for page 3\n",
      "Downloading 24 of 60 images for page 3\n",
      "Downloading 25 of 60 images for page 3\n",
      "Downloading 26 of 60 images for page 3\n",
      "Downloading 27 of 60 images for page 3\n",
      "Downloading 28 of 60 images for page 3\n",
      "Downloading 29 of 60 images for page 3\n",
      "Downloading 30 of 60 images for page 3\n",
      "Downloading 31 of 60 images for page 3\n",
      "Downloading 32 of 60 images for page 3\n",
      "Downloading 33 of 60 images for page 3\n",
      "Downloading 34 of 60 images for page 3\n",
      "Downloading 35 of 60 images for page 3\n",
      "Downloading 36 of 60 images for page 3\n",
      "Downloading 37 of 60 images for page 3\n",
      "Downloading 38 of 60 images for page 3\n",
      "Downloading 39 of 60 images for page 3\n",
      "Downloading 40 of 60 images for page 3\n",
      "Downloading 41 of 60 images for page 3\n",
      "Downloading 42 of 60 images for page 3\n",
      "Downloading 43 of 60 images for page 3\n",
      "Downloading 44 of 60 images for page 3\n",
      "Downloading 45 of 60 images for page 3\n",
      "Downloading 46 of 60 images for page 3\n",
      "Downloading 47 of 60 images for page 3\n",
      "Downloading 48 of 60 images for page 3\n",
      "Downloading 49 of 60 images for page 3\n",
      "Downloading 50 of 60 images for page 3\n",
      "Downloading 51 of 60 images for page 3\n",
      "Downloading 52 of 60 images for page 3\n",
      "Downloading 53 of 60 images for page 3\n",
      "Downloading 54 of 60 images for page 3\n",
      "Downloading 55 of 60 images for page 3\n",
      "Downloading 56 of 60 images for page 3\n",
      "Downloading 57 of 60 images for page 3\n",
      "Downloading 58 of 60 images for page 3\n",
      "Downloading 59 of 60 images for page 3\n",
      "Downloading 60 of 60 images for page 3\n"
     ]
    }
   ],
   "source": [
    "page=3\n",
    "for index, link in enumerate(urls):\n",
    "    print('Downloading {0} of {1} images for page 3'.format(index+1, len(urls)))\n",
    "    response=requests.get(link)\n",
    "    with open('Sarees Women/img{0}{1}.jpeg'.format(index,page),\"wb\")as file:\n",
    "        file.write(response.content)"
   ]
  },
  {
   "cell_type": "code",
   "execution_count": 32,
   "id": "2a8a3f32",
   "metadata": {},
   "outputs": [
    {
     "name": "stdout",
     "output_type": "stream",
     "text": [
      "https://m.media-amazon.com/images/I/61MvfTLNxNL._AC_UL320_.jpg\n",
      "https://m.media-amazon.com/images/I/61yTPG0qRLL._AC_UL320_.jpg\n",
      "https://m.media-amazon.com/images/I/91F07Vdv5wL._AC_UL320_.jpg\n",
      "https://m.media-amazon.com/images/I/81dIBsiZbuL._AC_UL320_.jpg\n",
      "https://m.media-amazon.com/images/I/91YW5J1hT9L._AC_UL320_.jpg\n",
      "https://m.media-amazon.com/images/I/71AB3ZkmnfL._AC_UL320_.jpg\n",
      "https://m.media-amazon.com/images/I/91g+ZkTz2ZL._AC_UL320_.jpg\n",
      "https://m.media-amazon.com/images/I/71dcfrsjZ2L._AC_UL320_.jpg\n",
      "https://m.media-amazon.com/images/I/81et7nKmZHL._AC_UL320_.jpg\n",
      "https://m.media-amazon.com/images/I/81Yoja+YbcL._AC_UL320_.jpg\n",
      "https://m.media-amazon.com/images/I/71b4GRgKoCL._AC_UL320_.jpg\n",
      "https://m.media-amazon.com/images/I/61qtfVnNY6L._AC_UL320_.jpg\n",
      "https://m.media-amazon.com/images/I/91xakBRD7AL._AC_UL320_.jpg\n",
      "https://m.media-amazon.com/images/I/71DLhI+syxL._AC_UL320_.jpg\n",
      "https://m.media-amazon.com/images/I/71dlUNaZ9ES._AC_UL320_.jpg\n",
      "https://m.media-amazon.com/images/I/61CWqU+csXL._AC_UL320_.jpg\n",
      "https://m.media-amazon.com/images/I/81alGLGd4pL._AC_UL320_.jpg\n",
      "https://m.media-amazon.com/images/I/71Gs3Xd0UeL._AC_UL320_.jpg\n",
      "https://m.media-amazon.com/images/I/61-tNOg5oYL._AC_UL320_.jpg\n",
      "https://m.media-amazon.com/images/I/816siql5M5L._AC_UL320_.jpg\n",
      "https://m.media-amazon.com/images/I/91blcNNbQcL._AC_UL320_.jpg\n",
      "https://m.media-amazon.com/images/I/71BwBNEcNfS._AC_UL320_.jpg\n",
      "https://m.media-amazon.com/images/I/91IvrJIAeIL._AC_UL320_.jpg\n",
      "https://m.media-amazon.com/images/I/91EWS-TUJ2L._AC_UL320_.jpg\n",
      "https://m.media-amazon.com/images/I/81SlJcDIPDL._AC_UL320_.jpg\n",
      "https://m.media-amazon.com/images/I/61yVi6TsoCL._AC_UL320_.jpg\n",
      "https://m.media-amazon.com/images/I/91Ko73taIuL._AC_UL320_.jpg\n",
      "https://m.media-amazon.com/images/I/91oX98d3tTL._AC_UL320_.jpg\n",
      "https://m.media-amazon.com/images/I/71oyKDHk1mL._AC_UL320_.jpg\n",
      "https://m.media-amazon.com/images/I/51H2h8xssTS._AC_UL320_.jpg\n",
      "https://m.media-amazon.com/images/I/81nLVjszV1L._AC_UL320_.jpg\n",
      "https://m.media-amazon.com/images/I/71j43QyTXUL._AC_UL320_.jpg\n",
      "https://m.media-amazon.com/images/I/91hnpooM-yL._AC_UL320_.jpg\n",
      "https://m.media-amazon.com/images/I/71MdVv+vSBL._AC_UL320_.jpg\n",
      "https://m.media-amazon.com/images/I/81rVlfsB+2L._AC_UL320_.jpg\n",
      "https://m.media-amazon.com/images/I/61c2CJFnUWL._AC_UL320_.jpg\n",
      "https://m.media-amazon.com/images/I/81HWahslWUL._AC_UL320_.jpg\n",
      "https://m.media-amazon.com/images/I/81VbefGzjJS._AC_UL320_.jpg\n",
      "https://m.media-amazon.com/images/I/61eRq0YtC+L._AC_UL320_.jpg\n",
      "https://m.media-amazon.com/images/I/718q91ghH5L._AC_UL320_.jpg\n",
      "https://m.media-amazon.com/images/I/91VtLtURBHL._AC_UL320_.jpg\n",
      "https://m.media-amazon.com/images/I/91h0QjRiUHL._AC_UL320_.jpg\n",
      "https://m.media-amazon.com/images/I/81mjgMqgyCS._AC_UL320_.jpg\n",
      "https://m.media-amazon.com/images/I/81mPhY7SFZL._AC_UL320_.jpg\n",
      "https://m.media-amazon.com/images/I/61Hvo3Os-dL._AC_UL320_.jpg\n",
      "https://m.media-amazon.com/images/I/61EwnQlaUSS._AC_UL320_.jpg\n",
      "https://m.media-amazon.com/images/I/81569pprUWL._AC_UL320_.jpg\n",
      "https://m.media-amazon.com/images/I/41DRdtg2AdL._AC_UL320_.jpg\n",
      "https://m.media-amazon.com/images/I/91DQNs9X+VL._AC_UL320_.jpg\n",
      "https://m.media-amazon.com/images/I/81S8Pxil-KL._AC_UL320_.jpg\n",
      "https://m.media-amazon.com/images/I/71QX+cXqEvL._AC_UL320_.jpg\n",
      "https://m.media-amazon.com/images/I/714nwRTCa8L._AC_UL320_.jpg\n",
      "https://m.media-amazon.com/images/I/81YCgyIh2ML._AC_UL320_.jpg\n",
      "https://m.media-amazon.com/images/I/816ycw5ku4L._AC_UL320_.jpg\n",
      "https://m.media-amazon.com/images/I/91y1hCZPoCL._AC_UL320_.jpg\n",
      "https://m.media-amazon.com/images/I/71jWRo8nJOS._AC_UL320_.jpg\n",
      "https://m.media-amazon.com/images/I/91kFmoe2LnL._AC_UL320_.jpg\n",
      "https://m.media-amazon.com/images/I/91-WYhI22ZL._AC_UL320_.jpg\n",
      "https://m.media-amazon.com/images/I/917383eNkVS._AC_UL320_.jpg\n",
      "https://m.media-amazon.com/images/I/618gRNu50qS._AC_UL320_.jpg\n"
     ]
    }
   ],
   "source": [
    "urls=[]\n",
    "for saree_image in sarees_images:\n",
    "    source = saree_image.get_attribute('src')\n",
    "    urls.append(source)\n",
    "    print(source)"
   ]
  },
  {
   "cell_type": "code",
   "execution_count": 34,
   "id": "e3ad5b38",
   "metadata": {},
   "outputs": [],
   "source": [
    "#Now, we find the 'Next' button using x_path and using selenium we click it.\n",
    "next_page=driver.find_element_by_xpath(\"//li[@class = 'a-last']//a\").click()"
   ]
  },
  {
   "cell_type": "code",
   "execution_count": 35,
   "id": "8c4f228d",
   "metadata": {},
   "outputs": [],
   "source": [
    "sarees_images=driver.find_elements_by_xpath(\"//img[@class ='s-image' ]\")"
   ]
  },
  {
   "cell_type": "code",
   "execution_count": 36,
   "id": "169f75d2",
   "metadata": {},
   "outputs": [
    {
     "data": {
      "text/plain": [
       "60"
      ]
     },
     "execution_count": 36,
     "metadata": {},
     "output_type": "execute_result"
    }
   ],
   "source": [
    "len(sarees_images)"
   ]
  },
  {
   "cell_type": "code",
   "execution_count": 37,
   "id": "a6df1e58",
   "metadata": {},
   "outputs": [
    {
     "name": "stdout",
     "output_type": "stream",
     "text": [
      "https://m.media-amazon.com/images/I/71Spc2YlHUS._AC_UL320_.jpg\n",
      "https://m.media-amazon.com/images/I/613LBZGoqWS._AC_UL320_.jpg\n",
      "https://m.media-amazon.com/images/I/71HQEJpkmxS._AC_UL320_.jpg\n",
      "https://m.media-amazon.com/images/I/61spUfTy9mS._AC_UL320_.jpg\n",
      "https://m.media-amazon.com/images/I/714nwRTCa8L._AC_UL320_.jpg\n",
      "https://m.media-amazon.com/images/I/81YCgyIh2ML._AC_UL320_.jpg\n",
      "https://m.media-amazon.com/images/I/816ycw5ku4L._AC_UL320_.jpg\n",
      "https://m.media-amazon.com/images/I/91y1hCZPoCL._AC_UL320_.jpg\n",
      "https://m.media-amazon.com/images/I/71jWRo8nJOS._AC_UL320_.jpg\n",
      "https://m.media-amazon.com/images/I/718MSi4ZSRL._AC_UL320_.jpg\n",
      "https://m.media-amazon.com/images/I/814U0+6V4HL._AC_UL320_.jpg\n",
      "https://m.media-amazon.com/images/I/61B8o9UlqpL._AC_UL320_.jpg\n",
      "https://m.media-amazon.com/images/I/71lLfaSkUyL._AC_UL320_.jpg\n",
      "https://m.media-amazon.com/images/I/61iqda1lr1S._AC_UL320_.jpg\n",
      "https://m.media-amazon.com/images/I/91KVZElTGdL._AC_UL320_.jpg\n",
      "https://m.media-amazon.com/images/I/91V6lfXzbUL._AC_UL320_.jpg\n",
      "https://m.media-amazon.com/images/I/41YNiIDmrdS._AC_UL320_.jpg\n",
      "https://m.media-amazon.com/images/I/61fX5gtqJXL._AC_UL320_.jpg\n",
      "https://m.media-amazon.com/images/I/41gRJdFVDQL._AC_UL320_.jpg\n",
      "https://m.media-amazon.com/images/I/61KlwJVsEyS._AC_UL320_.jpg\n",
      "https://m.media-amazon.com/images/I/51G3GCafHNS._AC_UL320_.jpg\n",
      "https://m.media-amazon.com/images/I/51dD6pkvgoS._AC_UL320_.jpg\n",
      "https://m.media-amazon.com/images/I/91rUpK2WbyL._AC_UL320_.jpg\n",
      "https://m.media-amazon.com/images/I/91dmA6AAO3L._AC_UL320_.jpg\n",
      "https://m.media-amazon.com/images/I/911oD-j1yeL._AC_UL320_.jpg\n",
      "https://m.media-amazon.com/images/I/71Y08lWFjkL._AC_UL320_.jpg\n",
      "https://m.media-amazon.com/images/I/91uVdKzoq-L._AC_UL320_.jpg\n",
      "https://m.media-amazon.com/images/I/51VRukJIh6L._AC_UL320_.jpg\n",
      "https://m.media-amazon.com/images/I/61mtw7ke5YS._AC_UL320_.jpg\n",
      "https://m.media-amazon.com/images/I/91AfbxoynPS._AC_UL320_.jpg\n",
      "https://m.media-amazon.com/images/I/710UYeqiESL._AC_UL320_.jpg\n",
      "https://m.media-amazon.com/images/I/71X7FKN76QL._AC_UL320_.jpg\n",
      "https://m.media-amazon.com/images/I/712fU35Wo3L._AC_UL320_.jpg\n",
      "https://m.media-amazon.com/images/I/81UorKEwvCL._AC_UL320_.jpg\n",
      "https://m.media-amazon.com/images/I/81W4EdrzbbL._AC_UL320_.jpg\n",
      "https://m.media-amazon.com/images/I/81MfzxqD0YL._AC_UL320_.jpg\n",
      "https://m.media-amazon.com/images/I/91CPsSJ2wpL._AC_UL320_.jpg\n",
      "https://m.media-amazon.com/images/I/919yn9gGZbL._AC_UL320_.jpg\n",
      "https://m.media-amazon.com/images/I/71AvQRws1xL._AC_UL320_.jpg\n",
      "https://m.media-amazon.com/images/I/71VVmN+os+L._AC_UL320_.jpg\n",
      "https://m.media-amazon.com/images/I/71BOHxB4TBL._AC_UL320_.jpg\n",
      "https://m.media-amazon.com/images/I/61DGWxkVh-S._AC_UL320_.jpg\n",
      "https://m.media-amazon.com/images/I/81aHWyG8O-L._AC_UL320_.jpg\n",
      "https://m.media-amazon.com/images/I/71Oz0kZl1eL._AC_UL320_.jpg\n",
      "https://m.media-amazon.com/images/I/415E6eztWOS._AC_UL320_.jpg\n",
      "https://m.media-amazon.com/images/I/9137AMpUMpL._AC_UL320_.jpg\n",
      "https://m.media-amazon.com/images/I/71amXwISKYL._AC_UL320_.jpg\n",
      "https://m.media-amazon.com/images/I/91S2jHgRHuL._AC_UL320_.jpg\n",
      "https://m.media-amazon.com/images/I/619uvYx55-L._AC_UL320_.jpg\n",
      "https://m.media-amazon.com/images/I/71THgNvI-qL._AC_UL320_.jpg\n",
      "https://m.media-amazon.com/images/I/41Vix3gwlTS._AC_UL320_.jpg\n",
      "https://m.media-amazon.com/images/I/91+ilAXbIuL._AC_UL320_.jpg\n",
      "https://m.media-amazon.com/images/I/91OUpg8YcXS._AC_UL320_.jpg\n",
      "https://m.media-amazon.com/images/I/81LNjJaq2xL._AC_UL320_.jpg\n",
      "https://m.media-amazon.com/images/I/41MuOSUUYvL._AC_UL320_.jpg\n",
      "https://m.media-amazon.com/images/I/61bnXOXNNML._AC_UL320_.jpg\n",
      "https://m.media-amazon.com/images/I/91km2Teuz+L._AC_UL320_.jpg\n",
      "https://m.media-amazon.com/images/I/81oi5Hnka8S._AC_UL320_.jpg\n",
      "https://m.media-amazon.com/images/I/41z0U4+82YS._AC_UL320_.jpg\n",
      "https://m.media-amazon.com/images/I/41SuCc6WwyS._AC_UL320_.jpg\n"
     ]
    }
   ],
   "source": [
    "urls=[]\n",
    "for saree_image in sarees_images:\n",
    "    source = saree_image.get_attribute('src')\n",
    "    urls.append(source)\n",
    "    print(source)"
   ]
  },
  {
   "cell_type": "code",
   "execution_count": 38,
   "id": "93a69204",
   "metadata": {},
   "outputs": [
    {
     "name": "stdout",
     "output_type": "stream",
     "text": [
      "Downloading 1 of 60 images for page 4\n",
      "Downloading 2 of 60 images for page 4\n",
      "Downloading 3 of 60 images for page 4\n",
      "Downloading 4 of 60 images for page 4\n",
      "Downloading 5 of 60 images for page 4\n",
      "Downloading 6 of 60 images for page 4\n",
      "Downloading 7 of 60 images for page 4\n",
      "Downloading 8 of 60 images for page 4\n",
      "Downloading 9 of 60 images for page 4\n",
      "Downloading 10 of 60 images for page 4\n",
      "Downloading 11 of 60 images for page 4\n",
      "Downloading 12 of 60 images for page 4\n",
      "Downloading 13 of 60 images for page 4\n",
      "Downloading 14 of 60 images for page 4\n",
      "Downloading 15 of 60 images for page 4\n",
      "Downloading 16 of 60 images for page 4\n",
      "Downloading 17 of 60 images for page 4\n",
      "Downloading 18 of 60 images for page 4\n",
      "Downloading 19 of 60 images for page 4\n",
      "Downloading 20 of 60 images for page 4\n",
      "Downloading 21 of 60 images for page 4\n",
      "Downloading 22 of 60 images for page 4\n",
      "Downloading 23 of 60 images for page 4\n",
      "Downloading 24 of 60 images for page 4\n",
      "Downloading 25 of 60 images for page 4\n",
      "Downloading 26 of 60 images for page 4\n",
      "Downloading 27 of 60 images for page 4\n",
      "Downloading 28 of 60 images for page 4\n",
      "Downloading 29 of 60 images for page 4\n",
      "Downloading 30 of 60 images for page 4\n",
      "Downloading 31 of 60 images for page 4\n",
      "Downloading 32 of 60 images for page 4\n",
      "Downloading 33 of 60 images for page 4\n",
      "Downloading 34 of 60 images for page 4\n",
      "Downloading 35 of 60 images for page 4\n",
      "Downloading 36 of 60 images for page 4\n",
      "Downloading 37 of 60 images for page 4\n",
      "Downloading 38 of 60 images for page 4\n",
      "Downloading 39 of 60 images for page 4\n",
      "Downloading 40 of 60 images for page 4\n",
      "Downloading 41 of 60 images for page 4\n",
      "Downloading 42 of 60 images for page 4\n",
      "Downloading 43 of 60 images for page 4\n",
      "Downloading 44 of 60 images for page 4\n",
      "Downloading 45 of 60 images for page 4\n",
      "Downloading 46 of 60 images for page 4\n",
      "Downloading 47 of 60 images for page 4\n",
      "Downloading 48 of 60 images for page 4\n",
      "Downloading 49 of 60 images for page 4\n",
      "Downloading 50 of 60 images for page 4\n",
      "Downloading 51 of 60 images for page 4\n",
      "Downloading 52 of 60 images for page 4\n",
      "Downloading 53 of 60 images for page 4\n",
      "Downloading 54 of 60 images for page 4\n",
      "Downloading 55 of 60 images for page 4\n",
      "Downloading 56 of 60 images for page 4\n",
      "Downloading 57 of 60 images for page 4\n",
      "Downloading 58 of 60 images for page 4\n",
      "Downloading 59 of 60 images for page 4\n",
      "Downloading 60 of 60 images for page 4\n"
     ]
    }
   ],
   "source": [
    "page=4\n",
    "for index, link in enumerate(urls):\n",
    "    print('Downloading {0} of {1} images for page 4'.format(index+1, len(urls)))\n",
    "    response=requests.get(link)\n",
    "    with open('Sarees Women/img{0}{1}.jpeg'.format(index,page),\"wb\")as file:\n",
    "        file.write(response.content)"
   ]
  },
  {
   "cell_type": "code",
   "execution_count": 39,
   "id": "72899813",
   "metadata": {},
   "outputs": [],
   "source": [
    "\n",
    "jeans_page = driver.get(\"https://www.amazon.in/Jeans-50-Off-or-more-Men/s?rh=n%3A1968076031%2Cp_n_pct-off-with-tax%3A2665401031\")"
   ]
  },
  {
   "cell_type": "code",
   "execution_count": 40,
   "id": "145f67ab",
   "metadata": {},
   "outputs": [],
   "source": [
    "jeans_images=driver.find_elements_by_xpath(\"//img[@class ='s-image' ]\")"
   ]
  },
  {
   "cell_type": "code",
   "execution_count": 41,
   "id": "9b0e488c",
   "metadata": {},
   "outputs": [
    {
     "data": {
      "text/plain": [
       "60"
      ]
     },
     "execution_count": 41,
     "metadata": {},
     "output_type": "execute_result"
    }
   ],
   "source": [
    "len(jeans_images)"
   ]
  },
  {
   "cell_type": "code",
   "execution_count": 42,
   "id": "6abd428b",
   "metadata": {},
   "outputs": [
    {
     "name": "stdout",
     "output_type": "stream",
     "text": [
      "https://m.media-amazon.com/images/I/71GR2YAt-7L._AC_UL320_.jpg\n",
      "https://m.media-amazon.com/images/I/81rcMJm4kFL._AC_UL320_.jpg\n",
      "https://m.media-amazon.com/images/I/619NO72sNUL._AC_UL320_.jpg\n",
      "https://m.media-amazon.com/images/I/81Ikw46R07L._AC_UL320_.jpg\n",
      "https://m.media-amazon.com/images/I/616xchp1ECL._AC_UL320_.jpg\n",
      "https://m.media-amazon.com/images/I/61ZGXTSfA3L._AC_UL320_.jpg\n",
      "https://m.media-amazon.com/images/I/31130Ux2d1L._AC_UL320_.jpg\n",
      "https://m.media-amazon.com/images/I/71tofDe1MZL._AC_UL320_.jpg\n",
      "https://m.media-amazon.com/images/I/61S5a0LL0sL._AC_UL320_.jpg\n",
      "https://m.media-amazon.com/images/I/81aBuBf206L._AC_UL320_.jpg\n",
      "https://m.media-amazon.com/images/I/51UlwkHPtmL._AC_UL320_.jpg\n",
      "https://m.media-amazon.com/images/I/61TwfPRLhrL._AC_UL320_.jpg\n",
      "https://m.media-amazon.com/images/I/71m0W58-zQL._AC_UL320_.jpg\n",
      "https://m.media-amazon.com/images/I/611hFiiUv4L._AC_UL320_.jpg\n",
      "https://m.media-amazon.com/images/I/61UZtv8GRtL._AC_UL320_.jpg\n",
      "https://m.media-amazon.com/images/I/71hbAodB7OL._AC_UL320_.jpg\n",
      "https://m.media-amazon.com/images/I/61Sx3-7UmsL._AC_UL320_.jpg\n",
      "https://m.media-amazon.com/images/I/613BWwlqTkL._AC_UL320_.jpg\n",
      "https://m.media-amazon.com/images/I/618r4PBS73L._AC_UL320_.jpg\n",
      "https://m.media-amazon.com/images/I/81e2qmwgoKL._AC_UL320_.jpg\n",
      "https://m.media-amazon.com/images/I/81ci8MTgSGL._AC_UL320_.jpg\n",
      "https://m.media-amazon.com/images/I/41YO0XpWehS._AC_UL320_.jpg\n",
      "https://m.media-amazon.com/images/I/8118IxX6cKL._AC_UL320_.jpg\n",
      "https://m.media-amazon.com/images/I/61+oWvNw4xL._AC_UL320_.jpg\n",
      "https://m.media-amazon.com/images/I/810P+QaXAfS._AC_UL320_.jpg\n",
      "https://m.media-amazon.com/images/I/81EWJkdzWZL._AC_UL320_.jpg\n",
      "https://m.media-amazon.com/images/I/81dZ97Jc2GL._AC_UL320_.jpg\n",
      "https://m.media-amazon.com/images/I/61mfqUJMlRL._AC_UL320_.jpg\n",
      "https://m.media-amazon.com/images/I/61+ymeZjHJL._AC_UL320_.jpg\n",
      "https://m.media-amazon.com/images/I/714EXTMcpuL._AC_UL320_.jpg\n",
      "https://m.media-amazon.com/images/I/51UXco4336L._AC_UL320_.jpg\n",
      "https://m.media-amazon.com/images/I/61o47UShtyL._AC_UL320_.jpg\n",
      "https://m.media-amazon.com/images/I/61z9M+39pxL._AC_UL320_.jpg\n",
      "https://m.media-amazon.com/images/I/91qT9DFAVwL._AC_UL320_.jpg\n",
      "https://m.media-amazon.com/images/I/81RDjNfGJ9L._AC_UL320_.jpg\n",
      "https://m.media-amazon.com/images/I/81mhGPkigmL._AC_UL320_.jpg\n",
      "https://m.media-amazon.com/images/I/61HvYtNzzSL._AC_UL320_.jpg\n",
      "https://m.media-amazon.com/images/I/41zHQNFnC-L._AC_UL320_.jpg\n",
      "https://m.media-amazon.com/images/I/419K1QZlnuS._AC_UL320_.jpg\n",
      "https://m.media-amazon.com/images/I/61u7ZNKqnVL._AC_UL320_.jpg\n",
      "https://m.media-amazon.com/images/I/51Gvco2ivdL._AC_UL320_.jpg\n",
      "https://m.media-amazon.com/images/I/81QcbuXUuXL._AC_UL320_.jpg\n",
      "https://m.media-amazon.com/images/I/71YV0wBJ-TL._AC_UL320_.jpg\n",
      "https://m.media-amazon.com/images/I/81ZVm7gJ8PL._AC_UL320_.jpg\n",
      "https://m.media-amazon.com/images/I/71PlzRWMYpL._AC_UL320_.jpg\n",
      "https://m.media-amazon.com/images/I/71BgJ8pKqQL._AC_UL320_.jpg\n",
      "https://m.media-amazon.com/images/I/61+e1RZI11L._AC_UL320_.jpg\n",
      "https://m.media-amazon.com/images/I/81je5On8CdS._AC_UL320_.jpg\n",
      "https://m.media-amazon.com/images/I/91mXH+SEo7L._AC_UL320_.jpg\n",
      "https://m.media-amazon.com/images/I/81rcMJm4kFL._AC_UL320_.jpg\n",
      "https://m.media-amazon.com/images/I/81ZJ4w2tPlL._AC_UL320_.jpg\n",
      "https://m.media-amazon.com/images/I/71qeFMaQeeL._AC_UL320_.jpg\n",
      "https://m.media-amazon.com/images/I/61bgI-mrUUL._AC_UL320_.jpg\n",
      "https://m.media-amazon.com/images/I/818Q02duvqL._AC_UL320_.jpg\n",
      "https://m.media-amazon.com/images/I/91GyZZ6fTQS._AC_UL320_.jpg\n",
      "https://m.media-amazon.com/images/I/81i4+jS4FvL._AC_UL320_.jpg\n",
      "https://m.media-amazon.com/images/I/81XWo01z3FL._AC_UL320_.jpg\n",
      "https://m.media-amazon.com/images/I/41ZB2qoaoyL._AC_UL320_.jpg\n",
      "https://m.media-amazon.com/images/I/713KjNf8UVS._AC_UL320_.jpg\n",
      "https://m.media-amazon.com/images/I/81jpwj33loL._AC_UL320_.jpg\n"
     ]
    }
   ],
   "source": [
    "urls=[]\n",
    "for jeans_image in jeans_images:\n",
    "    source=jeans_image.get_attribute('src')\n",
    "    urls.append(source)\n",
    "    print(source)"
   ]
  },
  {
   "cell_type": "code",
   "execution_count": 43,
   "id": "c6b4c3fe",
   "metadata": {},
   "outputs": [
    {
     "name": "stdout",
     "output_type": "stream",
     "text": [
      "Downloading 1 of 60 images from page 1\n",
      "Downloading 2 of 60 images from page 1\n",
      "Downloading 3 of 60 images from page 1\n",
      "Downloading 4 of 60 images from page 1\n",
      "Downloading 5 of 60 images from page 1\n",
      "Downloading 6 of 60 images from page 1\n",
      "Downloading 7 of 60 images from page 1\n",
      "Downloading 8 of 60 images from page 1\n",
      "Downloading 9 of 60 images from page 1\n",
      "Downloading 10 of 60 images from page 1\n",
      "Downloading 11 of 60 images from page 1\n",
      "Downloading 12 of 60 images from page 1\n",
      "Downloading 13 of 60 images from page 1\n",
      "Downloading 14 of 60 images from page 1\n",
      "Downloading 15 of 60 images from page 1\n",
      "Downloading 16 of 60 images from page 1\n",
      "Downloading 17 of 60 images from page 1\n",
      "Downloading 18 of 60 images from page 1\n",
      "Downloading 19 of 60 images from page 1\n",
      "Downloading 20 of 60 images from page 1\n",
      "Downloading 21 of 60 images from page 1\n",
      "Downloading 22 of 60 images from page 1\n",
      "Downloading 23 of 60 images from page 1\n",
      "Downloading 24 of 60 images from page 1\n",
      "Downloading 25 of 60 images from page 1\n",
      "Downloading 26 of 60 images from page 1\n",
      "Downloading 27 of 60 images from page 1\n",
      "Downloading 28 of 60 images from page 1\n",
      "Downloading 29 of 60 images from page 1\n",
      "Downloading 30 of 60 images from page 1\n",
      "Downloading 31 of 60 images from page 1\n",
      "Downloading 32 of 60 images from page 1\n",
      "Downloading 33 of 60 images from page 1\n",
      "Downloading 34 of 60 images from page 1\n",
      "Downloading 35 of 60 images from page 1\n",
      "Downloading 36 of 60 images from page 1\n",
      "Downloading 37 of 60 images from page 1\n",
      "Downloading 38 of 60 images from page 1\n",
      "Downloading 39 of 60 images from page 1\n",
      "Downloading 40 of 60 images from page 1\n",
      "Downloading 41 of 60 images from page 1\n",
      "Downloading 42 of 60 images from page 1\n",
      "Downloading 43 of 60 images from page 1\n",
      "Downloading 44 of 60 images from page 1\n",
      "Downloading 45 of 60 images from page 1\n",
      "Downloading 46 of 60 images from page 1\n",
      "Downloading 47 of 60 images from page 1\n",
      "Downloading 48 of 60 images from page 1\n",
      "Downloading 49 of 60 images from page 1\n",
      "Downloading 50 of 60 images from page 1\n",
      "Downloading 51 of 60 images from page 1\n",
      "Downloading 52 of 60 images from page 1\n",
      "Downloading 53 of 60 images from page 1\n",
      "Downloading 54 of 60 images from page 1\n",
      "Downloading 55 of 60 images from page 1\n",
      "Downloading 56 of 60 images from page 1\n",
      "Downloading 57 of 60 images from page 1\n",
      "Downloading 58 of 60 images from page 1\n",
      "Downloading 59 of 60 images from page 1\n",
      "Downloading 60 of 60 images from page 1\n"
     ]
    }
   ],
   "source": [
    "page=1\n",
    "for index, link in enumerate(urls):\n",
    "    print(\"Downloading {0} of {1} images from page 1\".format(index+1, len(urls)))\n",
    "    response=requests.get(link)\n",
    "    with open('Jeans Men/img{0}{1}.jpeg'.format(index,page),\"wb\")as file:\n",
    "        file.write(response.content)"
   ]
  },
  {
   "cell_type": "code",
   "execution_count": 44,
   "id": "25358440",
   "metadata": {},
   "outputs": [],
   "source": [
    "#Now, we find the 'Next' button using x_path and using selenium we click it.\n",
    "next_page=driver.find_element_by_xpath(\"//li[@class = 'a-last']//a\").click()"
   ]
  },
  {
   "cell_type": "code",
   "execution_count": 45,
   "id": "b2e71ea0",
   "metadata": {},
   "outputs": [],
   "source": [
    "jeans_images=driver.find_elements_by_xpath(\"//img[@class ='s-image' ]\")"
   ]
  },
  {
   "cell_type": "code",
   "execution_count": 46,
   "id": "82579c50",
   "metadata": {},
   "outputs": [
    {
     "data": {
      "text/plain": [
       "60"
      ]
     },
     "execution_count": 46,
     "metadata": {},
     "output_type": "execute_result"
    }
   ],
   "source": [
    "len(jeans_images)"
   ]
  },
  {
   "cell_type": "code",
   "execution_count": 47,
   "id": "747c70a7",
   "metadata": {},
   "outputs": [
    {
     "name": "stdout",
     "output_type": "stream",
     "text": [
      "https://m.media-amazon.com/images/I/71GR2YAt-7L._AC_UL320_.jpg\n",
      "https://m.media-amazon.com/images/I/81rcMJm4kFL._AC_UL320_.jpg\n",
      "https://m.media-amazon.com/images/I/619NO72sNUL._AC_UL320_.jpg\n",
      "https://m.media-amazon.com/images/I/81Ikw46R07L._AC_UL320_.jpg\n",
      "https://m.media-amazon.com/images/I/61PJp-UGw8L._AC_UL320_.jpg\n",
      "https://m.media-amazon.com/images/I/61DzS5aOy4L._AC_UL320_.jpg\n",
      "https://m.media-amazon.com/images/I/91NIAQQwIOL._AC_UL320_.jpg\n",
      "https://m.media-amazon.com/images/I/71HEmGIsJkL._AC_UL320_.jpg\n",
      "https://m.media-amazon.com/images/I/81TpF+JRlaL._AC_UL320_.jpg\n",
      "https://m.media-amazon.com/images/I/81D+KVOvp2L._AC_UL320_.jpg\n",
      "https://m.media-amazon.com/images/I/71PHcwlCj8L._AC_UL320_.jpg\n",
      "https://m.media-amazon.com/images/I/71jL5j25xQL._AC_UL320_.jpg\n",
      "https://m.media-amazon.com/images/I/312T8GD-G4S._AC_UL320_.jpg\n",
      "https://m.media-amazon.com/images/I/81mYzd8GgVL._AC_UL320_.jpg\n",
      "https://m.media-amazon.com/images/I/81Y-SGntUeL._AC_UL320_.jpg\n",
      "https://m.media-amazon.com/images/I/61N1hOGfVLL._AC_UL320_.jpg\n",
      "https://m.media-amazon.com/images/I/61-D7SA4PRL._AC_UL320_.jpg\n",
      "https://m.media-amazon.com/images/I/61HBtXKvYOL._AC_UL320_.jpg\n",
      "https://m.media-amazon.com/images/I/81POM3Hu2mL._AC_UL320_.jpg\n",
      "https://m.media-amazon.com/images/I/81+wlwY-1zL._AC_UL320_.jpg\n",
      "https://m.media-amazon.com/images/I/81ci8MTgSGL._AC_UL320_.jpg\n",
      "https://m.media-amazon.com/images/I/8118IxX6cKL._AC_UL320_.jpg\n",
      "https://m.media-amazon.com/images/I/81XWo01z3FL._AC_UL320_.jpg\n",
      "https://m.media-amazon.com/images/I/41YO0XpWehS._AC_UL320_.jpg\n",
      "https://m.media-amazon.com/images/I/617SAeg8hPL._AC_UL320_.jpg\n",
      "https://m.media-amazon.com/images/I/613aUOVUTyL._AC_UL320_.jpg\n",
      "https://m.media-amazon.com/images/I/81ixDFVkIWL._AC_UL320_.jpg\n",
      "https://m.media-amazon.com/images/I/61XuJ5Omc5L._AC_UL320_.jpg\n",
      "https://m.media-amazon.com/images/I/81yaD9Nui6L._AC_UL320_.jpg\n",
      "https://m.media-amazon.com/images/I/91rJoNQn9RL._AC_UL320_.jpg\n",
      "https://m.media-amazon.com/images/I/71QgQ+N63ZL._AC_UL320_.jpg\n",
      "https://m.media-amazon.com/images/I/61xg9CpjNjL._AC_UL320_.jpg\n",
      "https://m.media-amazon.com/images/I/71yiM4nauKL._AC_UL320_.jpg\n",
      "https://m.media-amazon.com/images/I/810blIO12PL._AC_UL320_.jpg\n",
      "https://m.media-amazon.com/images/I/918VbKElzyS._AC_UL320_.jpg\n",
      "https://m.media-amazon.com/images/I/A1Pl9qtRJmL._AC_UL320_.jpg\n",
      "https://m.media-amazon.com/images/I/71eemZiTuVL._AC_UL320_.jpg\n",
      "https://m.media-amazon.com/images/I/81MGbHoLg2S._AC_UL320_.jpg\n",
      "https://m.media-amazon.com/images/I/91rJoNQn9RL._AC_UL320_.jpg\n",
      "https://m.media-amazon.com/images/I/51UlwkHPtmL._AC_UL320_.jpg\n",
      "https://m.media-amazon.com/images/I/71TPfz4adjL._AC_UL320_.jpg\n",
      "https://m.media-amazon.com/images/I/61sz1RyxrkS._AC_UL320_.jpg\n",
      "https://m.media-amazon.com/images/I/81hRMrV2fAL._AC_UL320_.jpg\n",
      "https://m.media-amazon.com/images/I/71dQmiitTSL._AC_UL320_.jpg\n",
      "https://m.media-amazon.com/images/I/71DjyaJp6KL._AC_UL320_.jpg\n",
      "https://m.media-amazon.com/images/I/81OkLO+6J7S._AC_UL320_.jpg\n",
      "https://m.media-amazon.com/images/I/81D2WA+FOzL._AC_UL320_.jpg\n",
      "https://m.media-amazon.com/images/I/71Hc6flOyyL._AC_UL320_.jpg\n",
      "https://m.media-amazon.com/images/I/7147RgEPC6L._AC_UL320_.jpg\n",
      "https://m.media-amazon.com/images/I/71ebo+uUAwL._AC_UL320_.jpg\n",
      "https://m.media-amazon.com/images/I/714mVFatpRL._AC_UL320_.jpg\n",
      "https://m.media-amazon.com/images/I/81rB08LLnuL._AC_UL320_.jpg\n",
      "https://m.media-amazon.com/images/I/81kBrbKaNjL._AC_UL320_.jpg\n",
      "https://m.media-amazon.com/images/I/817QEGTBZ7L._AC_UL320_.jpg\n",
      "https://m.media-amazon.com/images/I/81M2a9wX6nL._AC_UL320_.jpg\n",
      "https://m.media-amazon.com/images/I/81flY5GdPrL._AC_UL320_.jpg\n",
      "https://m.media-amazon.com/images/I/41ZB2qoaoyL._AC_UL320_.jpg\n",
      "https://m.media-amazon.com/images/I/81jpwj33loL._AC_UL320_.jpg\n",
      "https://m.media-amazon.com/images/I/713KjNf8UVS._AC_UL320_.jpg\n",
      "https://m.media-amazon.com/images/I/61dsMwU4iIL._AC_UL320_.jpg\n"
     ]
    }
   ],
   "source": [
    "urls=[]\n",
    "for jeans_image in jeans_images:\n",
    "    source=jeans_image.get_attribute('src')\n",
    "    urls.append(source)\n",
    "    print(source)"
   ]
  },
  {
   "cell_type": "code",
   "execution_count": 48,
   "id": "f9df8e7e",
   "metadata": {},
   "outputs": [
    {
     "name": "stdout",
     "output_type": "stream",
     "text": [
      "Downloading 1 of 60 images from page 2\n",
      "Downloading 2 of 60 images from page 2\n",
      "Downloading 3 of 60 images from page 2\n",
      "Downloading 4 of 60 images from page 2\n",
      "Downloading 5 of 60 images from page 2\n",
      "Downloading 6 of 60 images from page 2\n",
      "Downloading 7 of 60 images from page 2\n",
      "Downloading 8 of 60 images from page 2\n",
      "Downloading 9 of 60 images from page 2\n",
      "Downloading 10 of 60 images from page 2\n",
      "Downloading 11 of 60 images from page 2\n",
      "Downloading 12 of 60 images from page 2\n",
      "Downloading 13 of 60 images from page 2\n",
      "Downloading 14 of 60 images from page 2\n",
      "Downloading 15 of 60 images from page 2\n",
      "Downloading 16 of 60 images from page 2\n",
      "Downloading 17 of 60 images from page 2\n",
      "Downloading 18 of 60 images from page 2\n",
      "Downloading 19 of 60 images from page 2\n",
      "Downloading 20 of 60 images from page 2\n",
      "Downloading 21 of 60 images from page 2\n",
      "Downloading 22 of 60 images from page 2\n",
      "Downloading 23 of 60 images from page 2\n",
      "Downloading 24 of 60 images from page 2\n",
      "Downloading 25 of 60 images from page 2\n",
      "Downloading 26 of 60 images from page 2\n",
      "Downloading 27 of 60 images from page 2\n",
      "Downloading 28 of 60 images from page 2\n",
      "Downloading 29 of 60 images from page 2\n",
      "Downloading 30 of 60 images from page 2\n",
      "Downloading 31 of 60 images from page 2\n",
      "Downloading 32 of 60 images from page 2\n",
      "Downloading 33 of 60 images from page 2\n",
      "Downloading 34 of 60 images from page 2\n",
      "Downloading 35 of 60 images from page 2\n",
      "Downloading 36 of 60 images from page 2\n",
      "Downloading 37 of 60 images from page 2\n",
      "Downloading 38 of 60 images from page 2\n",
      "Downloading 39 of 60 images from page 2\n",
      "Downloading 40 of 60 images from page 2\n",
      "Downloading 41 of 60 images from page 2\n",
      "Downloading 42 of 60 images from page 2\n",
      "Downloading 43 of 60 images from page 2\n",
      "Downloading 44 of 60 images from page 2\n",
      "Downloading 45 of 60 images from page 2\n",
      "Downloading 46 of 60 images from page 2\n",
      "Downloading 47 of 60 images from page 2\n",
      "Downloading 48 of 60 images from page 2\n",
      "Downloading 49 of 60 images from page 2\n",
      "Downloading 50 of 60 images from page 2\n",
      "Downloading 51 of 60 images from page 2\n",
      "Downloading 52 of 60 images from page 2\n",
      "Downloading 53 of 60 images from page 2\n",
      "Downloading 54 of 60 images from page 2\n",
      "Downloading 55 of 60 images from page 2\n",
      "Downloading 56 of 60 images from page 2\n",
      "Downloading 57 of 60 images from page 2\n",
      "Downloading 58 of 60 images from page 2\n",
      "Downloading 59 of 60 images from page 2\n",
      "Downloading 60 of 60 images from page 2\n"
     ]
    }
   ],
   "source": [
    "\n",
    "page=2\n",
    "for index, link in enumerate(urls):\n",
    "    print(\"Downloading {0} of {1} images from page 2\".format(index+1, len(urls)))\n",
    "    response=requests.get(link)\n",
    "    with open('Jeans Men/img{0}{1}.jpeg'.format(index,page),\"wb\")as file:\n",
    "        file.write(response.content)"
   ]
  },
  {
   "cell_type": "code",
   "execution_count": 49,
   "id": "f0c515d2",
   "metadata": {},
   "outputs": [],
   "source": [
    "#Now, we find the 'Next' button using x_path and using selenium we click it.\n",
    "next_page=driver.find_element_by_xpath(\"//li[@class = 'a-last']//a\").click()"
   ]
  },
  {
   "cell_type": "code",
   "execution_count": null,
   "id": "d41178c1",
   "metadata": {},
   "outputs": [],
   "source": []
  },
  {
   "cell_type": "code",
   "execution_count": 50,
   "id": "f4c72332",
   "metadata": {},
   "outputs": [],
   "source": [
    "jeans_images=driver.find_elements_by_xpath(\"//img[@class ='s-image' ]\")"
   ]
  },
  {
   "cell_type": "code",
   "execution_count": 51,
   "id": "cea9d3a8",
   "metadata": {},
   "outputs": [
    {
     "data": {
      "text/plain": [
       "60"
      ]
     },
     "execution_count": 51,
     "metadata": {},
     "output_type": "execute_result"
    }
   ],
   "source": [
    "len(jeans_images)"
   ]
  },
  {
   "cell_type": "code",
   "execution_count": 52,
   "id": "4b637082",
   "metadata": {},
   "outputs": [
    {
     "name": "stdout",
     "output_type": "stream",
     "text": [
      "https://m.media-amazon.com/images/I/81rcMJm4kFL._AC_UL320_.jpg\n",
      "https://m.media-amazon.com/images/I/619NO72sNUL._AC_UL320_.jpg\n",
      "https://m.media-amazon.com/images/I/91mXH+SEo7L._AC_UL320_.jpg\n",
      "https://m.media-amazon.com/images/I/81Ikw46R07L._AC_UL320_.jpg\n",
      "https://m.media-amazon.com/images/I/71IfXeF+mHL._AC_UL320_.jpg\n",
      "https://m.media-amazon.com/images/I/61BZzaK5abL._AC_UL320_.jpg\n",
      "https://m.media-amazon.com/images/I/61z3xuMbNxL._AC_UL320_.jpg\n",
      "https://m.media-amazon.com/images/I/81l90AjYadL._AC_UL320_.jpg\n",
      "https://m.media-amazon.com/images/I/8186iekLuYL._AC_UL320_.jpg\n",
      "https://m.media-amazon.com/images/I/91XcD8xlp4L._AC_UL320_.jpg\n",
      "https://m.media-amazon.com/images/I/91OW2Lti+CL._AC_UL320_.jpg\n",
      "https://m.media-amazon.com/images/I/81AuNlhWD1L._AC_UL320_.jpg\n",
      "https://m.media-amazon.com/images/I/81zDgDrBXIL._AC_UL320_.jpg\n",
      "https://m.media-amazon.com/images/I/715RDTGdtXL._AC_UL320_.jpg\n",
      "https://m.media-amazon.com/images/I/81au4FfzaFL._AC_UL320_.jpg\n",
      "https://m.media-amazon.com/images/I/81bKGPkY1SL._AC_UL320_.jpg\n",
      "https://m.media-amazon.com/images/I/61uFPT+R38L._AC_UL320_.jpg\n",
      "https://m.media-amazon.com/images/I/71zve7Po7-L._AC_UL320_.jpg\n",
      "https://m.media-amazon.com/images/I/61mvbOIlvQL._AC_UL320_.jpg\n",
      "https://m.media-amazon.com/images/I/81XzSqUwyyL._AC_UL320_.jpg\n",
      "https://m.media-amazon.com/images/I/81ci8MTgSGL._AC_UL320_.jpg\n",
      "https://m.media-amazon.com/images/I/81XWo01z3FL._AC_UL320_.jpg\n",
      "https://m.media-amazon.com/images/I/8118IxX6cKL._AC_UL320_.jpg\n",
      "https://m.media-amazon.com/images/I/41YO0XpWehS._AC_UL320_.jpg\n",
      "https://m.media-amazon.com/images/I/71GllfdVanL._AC_UL320_.jpg\n",
      "https://m.media-amazon.com/images/I/41ipyFTyb-L._AC_UL320_.jpg\n",
      "https://m.media-amazon.com/images/I/81o91r3D5BL._AC_UL320_.jpg\n",
      "https://m.media-amazon.com/images/I/81aAZ+ofFLL._AC_UL320_.jpg\n",
      "https://m.media-amazon.com/images/I/61Udsu9LfVL._AC_UL320_.jpg\n",
      "https://m.media-amazon.com/images/I/81jjk6l3NSL._AC_UL320_.jpg\n",
      "https://m.media-amazon.com/images/I/81LFBU1b8oL._AC_UL320_.jpg\n",
      "https://m.media-amazon.com/images/I/817Bttef7pL._AC_UL320_.jpg\n",
      "https://m.media-amazon.com/images/I/61w+s3gux1L._AC_UL320_.jpg\n",
      "https://m.media-amazon.com/images/I/81EoYDeYueS._AC_UL320_.jpg\n",
      "https://m.media-amazon.com/images/I/710joaLPLBL._AC_UL320_.jpg\n",
      "https://m.media-amazon.com/images/I/81Op5HUd+1L._AC_UL320_.jpg\n",
      "https://m.media-amazon.com/images/I/51CFfZqpMbL._AC_UL320_.jpg\n",
      "https://m.media-amazon.com/images/I/41s4My+nEDL._AC_UL320_.jpg\n",
      "https://m.media-amazon.com/images/I/61T-AU+9vvL._AC_UL320_.jpg\n",
      "https://m.media-amazon.com/images/I/81aX6+nZUvL._AC_UL320_.jpg\n",
      "https://m.media-amazon.com/images/I/61yK+TRN6qL._AC_UL320_.jpg\n",
      "https://m.media-amazon.com/images/I/71AfSQBRyAS._AC_UL320_.jpg\n",
      "https://m.media-amazon.com/images/I/81CfjIf+7pL._AC_UL320_.jpg\n",
      "https://m.media-amazon.com/images/I/8163QRvws+L._AC_UL320_.jpg\n",
      "https://m.media-amazon.com/images/I/81AXc+hP46L._AC_UL320_.jpg\n",
      "https://m.media-amazon.com/images/I/71Etih2ikzL._AC_UL320_.jpg\n",
      "https://m.media-amazon.com/images/I/81iWmTkWAbL._AC_UL320_.jpg\n",
      "https://m.media-amazon.com/images/I/8190BpzmN4L._AC_UL320_.jpg\n",
      "https://m.media-amazon.com/images/I/81ZVu9dy4DL._AC_UL320_.jpg\n",
      "https://m.media-amazon.com/images/I/61YB0H8a3gL._AC_UL320_.jpg\n",
      "https://m.media-amazon.com/images/I/81PMUNrgwwL._AC_UL320_.jpg\n",
      "https://m.media-amazon.com/images/I/71jhsIB+BYL._AC_UL320_.jpg\n",
      "https://m.media-amazon.com/images/I/81+6xjj5BDL._AC_UL320_.jpg\n",
      "https://m.media-amazon.com/images/I/81kBPHnc-YL._AC_UL320_.jpg\n",
      "https://m.media-amazon.com/images/I/81JWIen6R+L._AC_UL320_.jpg\n",
      "https://m.media-amazon.com/images/I/712epkReyhL._AC_UL320_.jpg\n",
      "https://m.media-amazon.com/images/I/81jpwj33loL._AC_UL320_.jpg\n",
      "https://m.media-amazon.com/images/I/41ZB2qoaoyL._AC_UL320_.jpg\n",
      "https://m.media-amazon.com/images/I/819P0KXZynL._AC_UL320_.jpg\n",
      "https://m.media-amazon.com/images/I/713KjNf8UVS._AC_UL320_.jpg\n"
     ]
    }
   ],
   "source": [
    "\n",
    "urls=[]\n",
    "for jeans_image in jeans_images:\n",
    "    source=jeans_image.get_attribute('src')\n",
    "    urls.append(source)\n",
    "    print(source)"
   ]
  },
  {
   "cell_type": "code",
   "execution_count": 53,
   "id": "25b61b30",
   "metadata": {},
   "outputs": [
    {
     "name": "stdout",
     "output_type": "stream",
     "text": [
      "Downloading 1 of 60 images from page 3\n",
      "Downloading 2 of 60 images from page 3\n",
      "Downloading 3 of 60 images from page 3\n",
      "Downloading 4 of 60 images from page 3\n",
      "Downloading 5 of 60 images from page 3\n",
      "Downloading 6 of 60 images from page 3\n",
      "Downloading 7 of 60 images from page 3\n",
      "Downloading 8 of 60 images from page 3\n",
      "Downloading 9 of 60 images from page 3\n",
      "Downloading 10 of 60 images from page 3\n",
      "Downloading 11 of 60 images from page 3\n",
      "Downloading 12 of 60 images from page 3\n",
      "Downloading 13 of 60 images from page 3\n",
      "Downloading 14 of 60 images from page 3\n",
      "Downloading 15 of 60 images from page 3\n",
      "Downloading 16 of 60 images from page 3\n",
      "Downloading 17 of 60 images from page 3\n",
      "Downloading 18 of 60 images from page 3\n",
      "Downloading 19 of 60 images from page 3\n",
      "Downloading 20 of 60 images from page 3\n",
      "Downloading 21 of 60 images from page 3\n",
      "Downloading 22 of 60 images from page 3\n",
      "Downloading 23 of 60 images from page 3\n",
      "Downloading 24 of 60 images from page 3\n",
      "Downloading 25 of 60 images from page 3\n",
      "Downloading 26 of 60 images from page 3\n",
      "Downloading 27 of 60 images from page 3\n",
      "Downloading 28 of 60 images from page 3\n",
      "Downloading 29 of 60 images from page 3\n",
      "Downloading 30 of 60 images from page 3\n",
      "Downloading 31 of 60 images from page 3\n",
      "Downloading 32 of 60 images from page 3\n",
      "Downloading 33 of 60 images from page 3\n",
      "Downloading 34 of 60 images from page 3\n",
      "Downloading 35 of 60 images from page 3\n",
      "Downloading 36 of 60 images from page 3\n",
      "Downloading 37 of 60 images from page 3\n",
      "Downloading 38 of 60 images from page 3\n",
      "Downloading 39 of 60 images from page 3\n",
      "Downloading 40 of 60 images from page 3\n",
      "Downloading 41 of 60 images from page 3\n",
      "Downloading 42 of 60 images from page 3\n",
      "Downloading 43 of 60 images from page 3\n",
      "Downloading 44 of 60 images from page 3\n",
      "Downloading 45 of 60 images from page 3\n",
      "Downloading 46 of 60 images from page 3\n",
      "Downloading 47 of 60 images from page 3\n",
      "Downloading 48 of 60 images from page 3\n",
      "Downloading 49 of 60 images from page 3\n",
      "Downloading 50 of 60 images from page 3\n",
      "Downloading 51 of 60 images from page 3\n",
      "Downloading 52 of 60 images from page 3\n",
      "Downloading 53 of 60 images from page 3\n",
      "Downloading 54 of 60 images from page 3\n",
      "Downloading 55 of 60 images from page 3\n",
      "Downloading 56 of 60 images from page 3\n",
      "Downloading 57 of 60 images from page 3\n",
      "Downloading 58 of 60 images from page 3\n",
      "Downloading 59 of 60 images from page 3\n",
      "Downloading 60 of 60 images from page 3\n"
     ]
    }
   ],
   "source": [
    "page=3\n",
    "for index, link in enumerate(urls):\n",
    "    print(\"Downloading {0} of {1} images from page 3\".format(index+1, len(urls)))\n",
    "    response=requests.get(link)\n",
    "    with open('Jeans Men/img{0}{1}.jpeg'.format(index,page),\"wb\")as file:\n",
    "        file.write(response.content)"
   ]
  },
  {
   "cell_type": "code",
   "execution_count": 54,
   "id": "88b537ef",
   "metadata": {},
   "outputs": [],
   "source": [
    "#Now, we find the 'Next' button using x_path and using selenium we click it.\n",
    "next_page=driver.find_element_by_xpath(\"//li[@class = 'a-last']//a\").click()"
   ]
  },
  {
   "cell_type": "code",
   "execution_count": 55,
   "id": "78d3559d",
   "metadata": {},
   "outputs": [],
   "source": [
    "\n",
    "jeans_images=driver.find_elements_by_xpath(\"//img[@class ='s-image' ]\")"
   ]
  },
  {
   "cell_type": "code",
   "execution_count": 56,
   "id": "b5368414",
   "metadata": {},
   "outputs": [
    {
     "data": {
      "text/plain": [
       "60"
      ]
     },
     "execution_count": 56,
     "metadata": {},
     "output_type": "execute_result"
    }
   ],
   "source": [
    "len(jeans_images)"
   ]
  },
  {
   "cell_type": "code",
   "execution_count": 57,
   "id": "14ddc206",
   "metadata": {},
   "outputs": [
    {
     "name": "stdout",
     "output_type": "stream",
     "text": [
      "https://m.media-amazon.com/images/I/619NO72sNUL._AC_UL320_.jpg\n",
      "https://m.media-amazon.com/images/I/81rcMJm4kFL._AC_UL320_.jpg\n",
      "https://m.media-amazon.com/images/I/71wBuBWLFLL._AC_UL320_.jpg\n",
      "https://m.media-amazon.com/images/I/81Ikw46R07L._AC_UL320_.jpg\n",
      "https://m.media-amazon.com/images/I/812NfsF-TDS._AC_UL320_.jpg\n",
      "https://m.media-amazon.com/images/I/81VXjElJt5L._AC_UL320_.jpg\n",
      "https://m.media-amazon.com/images/I/81emkePMduL._AC_UL320_.jpg\n",
      "https://m.media-amazon.com/images/I/81OJFF7G1eL._AC_UL320_.jpg\n",
      "https://m.media-amazon.com/images/I/81NAp7z6ErL._AC_UL320_.jpg\n",
      "https://m.media-amazon.com/images/I/61dL-tqEQaL._AC_UL320_.jpg\n",
      "https://m.media-amazon.com/images/I/7144z08UoTS._AC_UL320_.jpg\n",
      "https://m.media-amazon.com/images/I/81tYQ5-eZlL._AC_UL320_.jpg\n",
      "https://m.media-amazon.com/images/I/61jRLLl8R8L._AC_UL320_.jpg\n",
      "https://m.media-amazon.com/images/I/51FtN1Yy-CL._AC_UL320_.jpg\n",
      "https://m.media-amazon.com/images/I/818j+tFoEYL._AC_UL320_.jpg\n",
      "https://m.media-amazon.com/images/I/71ff171MHlL._AC_UL320_.jpg\n",
      "https://m.media-amazon.com/images/I/71MNVrZ7HJL._AC_UL320_.jpg\n",
      "https://m.media-amazon.com/images/I/615XVMeVkFL._AC_UL320_.jpg\n",
      "https://m.media-amazon.com/images/I/61lxZO2o3xL._AC_UL320_.jpg\n",
      "https://m.media-amazon.com/images/I/71-rRpSmtsL._AC_UL320_.jpg\n",
      "https://m.media-amazon.com/images/I/81ci8MTgSGL._AC_UL320_.jpg\n",
      "https://m.media-amazon.com/images/I/41YO0XpWehS._AC_UL320_.jpg\n",
      "https://m.media-amazon.com/images/I/81XWo01z3FL._AC_UL320_.jpg\n",
      "https://m.media-amazon.com/images/I/8118IxX6cKL._AC_UL320_.jpg\n",
      "https://m.media-amazon.com/images/I/8167OIfo7zL._AC_UL320_.jpg\n",
      "https://m.media-amazon.com/images/I/71cSkOlRzzL._AC_UL320_.jpg\n",
      "https://m.media-amazon.com/images/I/81sjdU1YJ3L._AC_UL320_.jpg\n",
      "https://m.media-amazon.com/images/I/712pHoSq6WL._AC_UL320_.jpg\n",
      "https://m.media-amazon.com/images/I/81XwnSrGpNL._AC_UL320_.jpg\n",
      "https://m.media-amazon.com/images/I/61eTBBWO6VL._AC_UL320_.jpg\n",
      "https://m.media-amazon.com/images/I/81jpwj33loL._AC_UL320_.jpg\n",
      "https://m.media-amazon.com/images/I/21JJhUpsrqS._AC_UL320_.jpg\n",
      "https://m.media-amazon.com/images/I/81YbCEWeuFL._AC_UL320_.jpg\n",
      "https://m.media-amazon.com/images/I/81Ikw46R07L._AC_UL320_.jpg\n",
      "https://m.media-amazon.com/images/I/81-UZlN-3QL._AC_UL320_.jpg\n",
      "https://m.media-amazon.com/images/I/61C4Cd6iUQL._AC_UL320_.jpg\n",
      "https://m.media-amazon.com/images/I/719jG6-p+9S._AC_UL320_.jpg\n",
      "https://m.media-amazon.com/images/I/71XHxFJ-EgL._AC_UL320_.jpg\n",
      "https://m.media-amazon.com/images/I/714+lmIsHAL._AC_UL320_.jpg\n",
      "https://m.media-amazon.com/images/I/81DpKu-kACL._AC_UL320_.jpg\n",
      "https://m.media-amazon.com/images/I/81MrIT4DQ5L._AC_UL320_.jpg\n",
      "https://m.media-amazon.com/images/I/71oSn1+jd8L._AC_UL320_.jpg\n",
      "https://m.media-amazon.com/images/I/51GlqkomsvL._AC_UL320_.jpg\n",
      "https://m.media-amazon.com/images/I/61UHUJQ1SeL._AC_UL320_.jpg\n",
      "https://m.media-amazon.com/images/I/61j2RHQTQ4L._AC_UL320_.jpg\n",
      "https://m.media-amazon.com/images/I/71NRVDhXnoL._AC_UL320_.jpg\n",
      "https://m.media-amazon.com/images/I/81J2RmfLw5L._AC_UL320_.jpg\n",
      "https://m.media-amazon.com/images/I/51KjZtBXg+L._AC_UL320_.jpg\n",
      "https://m.media-amazon.com/images/I/51lYzmTlc7L._AC_UL320_.jpg\n",
      "https://m.media-amazon.com/images/I/71BJXFdWzbL._AC_UL320_.jpg\n",
      "https://m.media-amazon.com/images/I/81Iq6bVmKrL._AC_UL320_.jpg\n",
      "https://m.media-amazon.com/images/I/616WPp65BPL._AC_UL320_.jpg\n",
      "https://m.media-amazon.com/images/I/71pFZ41id-L._AC_UL320_.jpg\n",
      "https://m.media-amazon.com/images/I/81N6WVdu9JL._AC_UL320_.jpg\n",
      "https://m.media-amazon.com/images/I/71AeAQvW1RL._AC_UL320_.jpg\n",
      "https://m.media-amazon.com/images/I/81xRNg9Sz6L._AC_UL320_.jpg\n",
      "https://m.media-amazon.com/images/I/81jpwj33loL._AC_UL320_.jpg\n",
      "https://m.media-amazon.com/images/I/819P0KXZynL._AC_UL320_.jpg\n",
      "https://m.media-amazon.com/images/I/41ZB2qoaoyL._AC_UL320_.jpg\n",
      "https://m.media-amazon.com/images/I/713KjNf8UVS._AC_UL320_.jpg\n"
     ]
    }
   ],
   "source": [
    "urls=[]\n",
    "for jeans_image in jeans_images:\n",
    "    source=jeans_image.get_attribute('src')\n",
    "    urls.append(source)\n",
    "    print(source)"
   ]
  },
  {
   "cell_type": "code",
   "execution_count": 58,
   "id": "7c75b86d",
   "metadata": {},
   "outputs": [
    {
     "name": "stdout",
     "output_type": "stream",
     "text": [
      "Downloading 1 of 60 images from page 4\n",
      "Downloading 2 of 60 images from page 4\n",
      "Downloading 3 of 60 images from page 4\n",
      "Downloading 4 of 60 images from page 4\n",
      "Downloading 5 of 60 images from page 4\n",
      "Downloading 6 of 60 images from page 4\n",
      "Downloading 7 of 60 images from page 4\n",
      "Downloading 8 of 60 images from page 4\n",
      "Downloading 9 of 60 images from page 4\n",
      "Downloading 10 of 60 images from page 4\n",
      "Downloading 11 of 60 images from page 4\n",
      "Downloading 12 of 60 images from page 4\n",
      "Downloading 13 of 60 images from page 4\n",
      "Downloading 14 of 60 images from page 4\n",
      "Downloading 15 of 60 images from page 4\n",
      "Downloading 16 of 60 images from page 4\n",
      "Downloading 17 of 60 images from page 4\n",
      "Downloading 18 of 60 images from page 4\n",
      "Downloading 19 of 60 images from page 4\n",
      "Downloading 20 of 60 images from page 4\n",
      "Downloading 21 of 60 images from page 4\n",
      "Downloading 22 of 60 images from page 4\n",
      "Downloading 23 of 60 images from page 4\n",
      "Downloading 24 of 60 images from page 4\n",
      "Downloading 25 of 60 images from page 4\n",
      "Downloading 26 of 60 images from page 4\n",
      "Downloading 27 of 60 images from page 4\n",
      "Downloading 28 of 60 images from page 4\n",
      "Downloading 29 of 60 images from page 4\n",
      "Downloading 30 of 60 images from page 4\n",
      "Downloading 31 of 60 images from page 4\n",
      "Downloading 32 of 60 images from page 4\n",
      "Downloading 33 of 60 images from page 4\n",
      "Downloading 34 of 60 images from page 4\n",
      "Downloading 35 of 60 images from page 4\n",
      "Downloading 36 of 60 images from page 4\n",
      "Downloading 37 of 60 images from page 4\n",
      "Downloading 38 of 60 images from page 4\n",
      "Downloading 39 of 60 images from page 4\n",
      "Downloading 40 of 60 images from page 4\n",
      "Downloading 41 of 60 images from page 4\n",
      "Downloading 42 of 60 images from page 4\n",
      "Downloading 43 of 60 images from page 4\n",
      "Downloading 44 of 60 images from page 4\n",
      "Downloading 45 of 60 images from page 4\n",
      "Downloading 46 of 60 images from page 4\n",
      "Downloading 47 of 60 images from page 4\n",
      "Downloading 48 of 60 images from page 4\n",
      "Downloading 49 of 60 images from page 4\n",
      "Downloading 50 of 60 images from page 4\n",
      "Downloading 51 of 60 images from page 4\n",
      "Downloading 52 of 60 images from page 4\n",
      "Downloading 53 of 60 images from page 4\n",
      "Downloading 54 of 60 images from page 4\n",
      "Downloading 55 of 60 images from page 4\n",
      "Downloading 56 of 60 images from page 4\n",
      "Downloading 57 of 60 images from page 4\n",
      "Downloading 58 of 60 images from page 4\n",
      "Downloading 59 of 60 images from page 4\n",
      "Downloading 60 of 60 images from page 4\n"
     ]
    }
   ],
   "source": [
    "\n",
    "page=4\n",
    "for index, link in enumerate(urls):\n",
    "    print(\"Downloading {0} of {1} images from page 4\".format(index+1, len(urls)))\n",
    "    response=requests.get(link)\n",
    "    with open('Jeans Men/img{0}{1}.jpeg'.format(index,page),\"wb\")as file:\n",
    "        file.write(response.content)"
   ]
  },
  {
   "cell_type": "code",
   "execution_count": 59,
   "id": "1bdc0deb",
   "metadata": {},
   "outputs": [],
   "source": [
    "trouser_page=driver.get('https://www.amazon.in/s?rh=n%3A1968125031&fs=true&ref=lp_1968125031_sar')"
   ]
  },
  {
   "cell_type": "code",
   "execution_count": 60,
   "id": "4f0caff2",
   "metadata": {},
   "outputs": [],
   "source": [
    "trouser_images=driver.find_elements_by_xpath(\"//img[@class ='s-image' ]\")"
   ]
  },
  {
   "cell_type": "code",
   "execution_count": 61,
   "id": "aa8ccc16",
   "metadata": {},
   "outputs": [
    {
     "data": {
      "text/plain": [
       "60"
      ]
     },
     "execution_count": 61,
     "metadata": {},
     "output_type": "execute_result"
    }
   ],
   "source": [
    "len(trouser_images)"
   ]
  },
  {
   "cell_type": "code",
   "execution_count": 62,
   "id": "bca2bffb",
   "metadata": {},
   "outputs": [
    {
     "name": "stdout",
     "output_type": "stream",
     "text": [
      "https://m.media-amazon.com/images/I/71u47o-yKnL._AC_UL320_.jpg\n",
      "https://m.media-amazon.com/images/I/718TIKRkEkL._AC_UL320_.jpg\n",
      "https://m.media-amazon.com/images/I/71lH6YbxvkL._AC_UL320_.jpg\n",
      "https://m.media-amazon.com/images/I/61g8WwNtRaL._AC_UL320_.jpg\n",
      "https://m.media-amazon.com/images/I/51AQkV-Zf5L._AC_UL320_.jpg\n",
      "https://m.media-amazon.com/images/I/51sEKKJVYOL._AC_UL320_.jpg\n",
      "https://m.media-amazon.com/images/I/51t1JCZB-AL._AC_UL320_.jpg\n",
      "https://m.media-amazon.com/images/I/71w2mhYIRNL._AC_UL320_.jpg\n",
      "https://m.media-amazon.com/images/I/81aLEvSqU+L._AC_UL320_.jpg\n",
      "https://m.media-amazon.com/images/I/71lD6Zr4V3L._AC_UL320_.jpg\n",
      "https://m.media-amazon.com/images/I/71hDWXxkd+L._AC_UL320_.jpg\n",
      "https://m.media-amazon.com/images/I/7121MDgCZUL._AC_UL320_.jpg\n",
      "https://m.media-amazon.com/images/I/71yXjuYYh6L._AC_UL320_.jpg\n",
      "https://m.media-amazon.com/images/I/71r3SprUh3L._AC_UL320_.jpg\n",
      "https://m.media-amazon.com/images/I/71jfz6ObDfL._AC_UL320_.jpg\n",
      "https://m.media-amazon.com/images/I/71SCEIwfneL._AC_UL320_.jpg\n",
      "https://m.media-amazon.com/images/I/51-QbRvRhxL._AC_UL320_.jpg\n",
      "https://m.media-amazon.com/images/I/712HV1Wk2kL._AC_UL320_.jpg\n",
      "https://m.media-amazon.com/images/I/81rHWBHIOyL._AC_UL320_.jpg\n",
      "https://m.media-amazon.com/images/I/61NKxXc+lIL._AC_UL320_.jpg\n",
      "https://m.media-amazon.com/images/I/61xm3OpMyeL._AC_UL320_.jpg\n",
      "https://m.media-amazon.com/images/I/5180ufFoKfL._AC_UL320_.jpg\n",
      "https://m.media-amazon.com/images/I/611cfY8ljIL._AC_UL320_.jpg\n",
      "https://m.media-amazon.com/images/I/61-IDsC-OGL._AC_UL320_.jpg\n",
      "https://m.media-amazon.com/images/I/61c91ma8ZHL._AC_UL320_.jpg\n",
      "https://m.media-amazon.com/images/I/51CMpAc3DQS._AC_UL320_.jpg\n",
      "https://m.media-amazon.com/images/I/61ELAf0ZLcL._AC_UL320_.jpg\n",
      "https://m.media-amazon.com/images/I/51rlH2Ut1tL._AC_UL320_.jpg\n",
      "https://m.media-amazon.com/images/I/71UHoQ2wPzL._AC_UL320_.jpg\n",
      "https://m.media-amazon.com/images/I/71wAS60e7GL._AC_UL320_.jpg\n",
      "https://m.media-amazon.com/images/I/71+GDCx9OSL._AC_UL320_.jpg\n",
      "https://m.media-amazon.com/images/I/61MwykW9VsL._AC_UL320_.jpg\n",
      "https://m.media-amazon.com/images/I/71qOWBbtuRL._AC_UL320_.jpg\n",
      "https://m.media-amazon.com/images/I/81phGovZxsL._AC_UL320_.jpg\n",
      "https://m.media-amazon.com/images/I/61T6Q6We-nL._AC_UL320_.jpg\n",
      "https://m.media-amazon.com/images/I/61HEslWKT2L._AC_UL320_.jpg\n",
      "https://m.media-amazon.com/images/I/51v1frj5BTS._AC_UL320_.jpg\n",
      "https://m.media-amazon.com/images/I/71EAPikTuQL._AC_UL320_.jpg\n",
      "https://m.media-amazon.com/images/I/71XHgV07eCL._AC_UL320_.jpg\n",
      "https://m.media-amazon.com/images/I/51H86JddBWL._AC_UL320_.jpg\n",
      "https://m.media-amazon.com/images/I/71dvIDrJkVL._AC_UL320_.jpg\n",
      "https://m.media-amazon.com/images/I/61Rws+s+W6L._AC_UL320_.jpg\n",
      "https://m.media-amazon.com/images/I/716KPHOEHkS._AC_UL320_.jpg\n",
      "https://m.media-amazon.com/images/I/812GuriqN4L._AC_UL320_.jpg\n",
      "https://m.media-amazon.com/images/I/81fy71OOznL._AC_UL320_.jpg\n",
      "https://m.media-amazon.com/images/I/61QFsuyJQSL._AC_UL320_.jpg\n",
      "https://m.media-amazon.com/images/I/71XNKLBwy9L._AC_UL320_.jpg\n",
      "https://m.media-amazon.com/images/I/61KwCbPkOyL._AC_UL320_.jpg\n",
      "https://m.media-amazon.com/images/I/61Ri6MUj3qL._AC_UL320_.jpg\n",
      "https://m.media-amazon.com/images/I/61x3Txw7WXL._AC_UL320_.jpg\n",
      "https://m.media-amazon.com/images/I/71wRqpTsJKL._AC_UL320_.jpg\n",
      "https://m.media-amazon.com/images/I/81d37fLAwUL._AC_UL320_.jpg\n",
      "https://m.media-amazon.com/images/I/51FnMYgTebL._AC_UL320_.jpg\n",
      "https://m.media-amazon.com/images/I/71FoKSRVxlL._AC_UL320_.jpg\n",
      "https://m.media-amazon.com/images/I/81q5SSDUo5L._AC_UL320_.jpg\n",
      "https://m.media-amazon.com/images/I/71MH25BnelL._AC_UL320_.jpg\n",
      "https://m.media-amazon.com/images/I/71v8LUgjaRL._AC_UL320_.jpg\n",
      "https://m.media-amazon.com/images/I/71nNZyy+P3L._AC_UL320_.jpg\n",
      "https://m.media-amazon.com/images/I/71t+EW+YoXL._AC_UL320_.jpg\n",
      "https://m.media-amazon.com/images/I/81Meum3F20L._AC_UL320_.jpg\n"
     ]
    }
   ],
   "source": [
    "urls=[]\n",
    "for trouser_image in trouser_images:\n",
    "    source=trouser_image.get_attribute('src')\n",
    "    urls.append(source)\n",
    "    print(source)"
   ]
  },
  {
   "cell_type": "code",
   "execution_count": 63,
   "id": "25e1f07b",
   "metadata": {},
   "outputs": [
    {
     "name": "stdout",
     "output_type": "stream",
     "text": [
      "Downloading 1 of 60 images from page 1\n",
      "Downloading 2 of 60 images from page 1\n",
      "Downloading 3 of 60 images from page 1\n",
      "Downloading 4 of 60 images from page 1\n",
      "Downloading 5 of 60 images from page 1\n",
      "Downloading 6 of 60 images from page 1\n",
      "Downloading 7 of 60 images from page 1\n",
      "Downloading 8 of 60 images from page 1\n",
      "Downloading 9 of 60 images from page 1\n",
      "Downloading 10 of 60 images from page 1\n",
      "Downloading 11 of 60 images from page 1\n",
      "Downloading 12 of 60 images from page 1\n",
      "Downloading 13 of 60 images from page 1\n",
      "Downloading 14 of 60 images from page 1\n",
      "Downloading 15 of 60 images from page 1\n",
      "Downloading 16 of 60 images from page 1\n",
      "Downloading 17 of 60 images from page 1\n",
      "Downloading 18 of 60 images from page 1\n",
      "Downloading 19 of 60 images from page 1\n",
      "Downloading 20 of 60 images from page 1\n",
      "Downloading 21 of 60 images from page 1\n",
      "Downloading 22 of 60 images from page 1\n",
      "Downloading 23 of 60 images from page 1\n",
      "Downloading 24 of 60 images from page 1\n",
      "Downloading 25 of 60 images from page 1\n",
      "Downloading 26 of 60 images from page 1\n",
      "Downloading 27 of 60 images from page 1\n",
      "Downloading 28 of 60 images from page 1\n",
      "Downloading 29 of 60 images from page 1\n",
      "Downloading 30 of 60 images from page 1\n",
      "Downloading 31 of 60 images from page 1\n",
      "Downloading 32 of 60 images from page 1\n",
      "Downloading 33 of 60 images from page 1\n",
      "Downloading 34 of 60 images from page 1\n",
      "Downloading 35 of 60 images from page 1\n",
      "Downloading 36 of 60 images from page 1\n",
      "Downloading 37 of 60 images from page 1\n",
      "Downloading 38 of 60 images from page 1\n",
      "Downloading 39 of 60 images from page 1\n",
      "Downloading 40 of 60 images from page 1\n",
      "Downloading 41 of 60 images from page 1\n",
      "Downloading 42 of 60 images from page 1\n",
      "Downloading 43 of 60 images from page 1\n",
      "Downloading 44 of 60 images from page 1\n",
      "Downloading 45 of 60 images from page 1\n",
      "Downloading 46 of 60 images from page 1\n",
      "Downloading 47 of 60 images from page 1\n",
      "Downloading 48 of 60 images from page 1\n",
      "Downloading 49 of 60 images from page 1\n",
      "Downloading 50 of 60 images from page 1\n",
      "Downloading 51 of 60 images from page 1\n",
      "Downloading 52 of 60 images from page 1\n",
      "Downloading 53 of 60 images from page 1\n",
      "Downloading 54 of 60 images from page 1\n",
      "Downloading 55 of 60 images from page 1\n",
      "Downloading 56 of 60 images from page 1\n",
      "Downloading 57 of 60 images from page 1\n",
      "Downloading 58 of 60 images from page 1\n",
      "Downloading 59 of 60 images from page 1\n",
      "Downloading 60 of 60 images from page 1\n"
     ]
    }
   ],
   "source": [
    "page=1\n",
    "for index, link in enumerate(urls):\n",
    "    print(\"Downloading {0} of {1} images from page 1\".format(index+1, len(urls)))\n",
    "    response=requests.get(link)\n",
    "    with open('Trousers Men/img{0}{1}.jpeg'.format(index,page),\"wb\")as file:\n",
    "        file.write(response.content)"
   ]
  },
  {
   "cell_type": "code",
   "execution_count": 64,
   "id": "62667122",
   "metadata": {},
   "outputs": [],
   "source": [
    "next_page=driver.find_element_by_xpath(\"//li[@class = 'a-last']//a\").click()"
   ]
  },
  {
   "cell_type": "code",
   "execution_count": 65,
   "id": "063dc283",
   "metadata": {},
   "outputs": [],
   "source": [
    "trouser_images=driver.find_elements_by_xpath(\"//img[@class ='s-image' ]\")"
   ]
  },
  {
   "cell_type": "code",
   "execution_count": 66,
   "id": "616284bb",
   "metadata": {},
   "outputs": [
    {
     "data": {
      "text/plain": [
       "60"
      ]
     },
     "execution_count": 66,
     "metadata": {},
     "output_type": "execute_result"
    }
   ],
   "source": [
    "len(trouser_images)"
   ]
  },
  {
   "cell_type": "code",
   "execution_count": 67,
   "id": "49f04a92",
   "metadata": {},
   "outputs": [
    {
     "name": "stdout",
     "output_type": "stream",
     "text": [
      "https://m.media-amazon.com/images/I/71u47o-yKnL._AC_UL320_.jpg\n",
      "https://m.media-amazon.com/images/I/718TIKRkEkL._AC_UL320_.jpg\n",
      "https://m.media-amazon.com/images/I/61g8WwNtRaL._AC_UL320_.jpg\n",
      "https://m.media-amazon.com/images/I/61-nTT-KCaL._AC_UL320_.jpg\n",
      "https://m.media-amazon.com/images/I/81e9hGPqolL._AC_UL320_.jpg\n",
      "https://m.media-amazon.com/images/I/819axHLO8nL._AC_UL320_.jpg\n",
      "https://m.media-amazon.com/images/I/816U8SMSn3S._AC_UL320_.jpg\n",
      "https://m.media-amazon.com/images/I/81+v8d8iC0L._AC_UL320_.jpg\n",
      "https://m.media-amazon.com/images/I/71lH6YbxvkL._AC_UL320_.jpg\n",
      "https://m.media-amazon.com/images/I/31DLX2xvIOL._AC_UL320_.jpg\n",
      "https://m.media-amazon.com/images/I/914VZN4eUML._AC_UL320_.jpg\n",
      "https://m.media-amazon.com/images/I/71q99WDfqqL._AC_UL320_.jpg\n",
      "https://m.media-amazon.com/images/I/91w9p9ung1S._AC_UL320_.jpg\n",
      "https://m.media-amazon.com/images/I/A11FAuyBOpS._AC_UL320_.jpg\n",
      "https://m.media-amazon.com/images/I/71f81hamthL._AC_UL320_.jpg\n",
      "https://m.media-amazon.com/images/I/81Qn+xBUlBL._AC_UL320_.jpg\n",
      "https://m.media-amazon.com/images/I/51SFAN52odL._AC_UL320_.jpg\n",
      "https://m.media-amazon.com/images/I/81V+cLWewjL._AC_UL320_.jpg\n",
      "https://m.media-amazon.com/images/I/61pm0zdhpEL._AC_UL320_.jpg\n",
      "https://m.media-amazon.com/images/I/61xYeYFEOiL._AC_UL320_.jpg\n",
      "https://m.media-amazon.com/images/I/61xm3OpMyeL._AC_UL320_.jpg\n",
      "https://m.media-amazon.com/images/I/611cfY8ljIL._AC_UL320_.jpg\n",
      "https://m.media-amazon.com/images/I/71lH6YbxvkL._AC_UL320_.jpg\n",
      "https://m.media-amazon.com/images/I/61-IDsC-OGL._AC_UL320_.jpg\n",
      "https://m.media-amazon.com/images/I/71J4eD0bqQL._AC_UL320_.jpg\n",
      "https://m.media-amazon.com/images/I/31QYXZdXqtL._AC_UL320_.jpg\n",
      "https://m.media-amazon.com/images/I/513GGWVbevL._AC_UL320_.jpg\n",
      "https://m.media-amazon.com/images/I/51qXWowr-+S._AC_UL320_.jpg\n",
      "https://m.media-amazon.com/images/I/81BmbWD5l5L._AC_UL320_.jpg\n",
      "https://m.media-amazon.com/images/I/61X+0h6pzGL._AC_UL320_.jpg\n",
      "https://m.media-amazon.com/images/I/61v4byENRTL._AC_UL320_.jpg\n",
      "https://m.media-amazon.com/images/I/61W3heEK8TL._AC_UL320_.jpg\n",
      "https://m.media-amazon.com/images/I/71xIjhZmZ1L._AC_UL320_.jpg\n",
      "https://m.media-amazon.com/images/I/610crFA7BJL._AC_UL320_.jpg\n",
      "https://m.media-amazon.com/images/I/A11FAuyBOpS._AC_UL320_.jpg\n",
      "https://m.media-amazon.com/images/I/61Ked3kKbxL._AC_UL320_.jpg\n",
      "https://m.media-amazon.com/images/I/71JThgjGkcL._AC_UL320_.jpg\n",
      "https://m.media-amazon.com/images/I/712jpqPcRIL._AC_UL320_.jpg\n",
      "https://m.media-amazon.com/images/I/61XzX+F7IUL._AC_UL320_.jpg\n",
      "https://m.media-amazon.com/images/I/815rEdR03qL._AC_UL320_.jpg\n",
      "https://m.media-amazon.com/images/I/810bBm6koOL._AC_UL320_.jpg\n",
      "https://m.media-amazon.com/images/I/81tSje+SR-L._AC_UL320_.jpg\n",
      "https://m.media-amazon.com/images/I/71OAqwPLV6L._AC_UL320_.jpg\n",
      "https://m.media-amazon.com/images/I/61lOWJK2cQS._AC_UL320_.jpg\n",
      "https://m.media-amazon.com/images/I/71ki+gKJsvL._AC_UL320_.jpg\n",
      "https://m.media-amazon.com/images/I/71EGiLzr+3L._AC_UL320_.jpg\n",
      "https://m.media-amazon.com/images/I/419sVCgcLDL._AC_UL320_.jpg\n",
      "https://m.media-amazon.com/images/I/61-yL0KuypL._AC_UL320_.jpg\n",
      "https://m.media-amazon.com/images/I/61seDzWStbL._AC_UL320_.jpg\n",
      "https://m.media-amazon.com/images/I/816Ze8r5dLL._AC_UL320_.jpg\n",
      "https://m.media-amazon.com/images/I/31er0KeOfTL._AC_UL320_.jpg\n",
      "https://m.media-amazon.com/images/I/71+G0cuRNvL._AC_UL320_.jpg\n",
      "https://m.media-amazon.com/images/I/61pRJxuoRQL._AC_UL320_.jpg\n",
      "https://m.media-amazon.com/images/I/718jyU3dlpL._AC_UL320_.jpg\n",
      "https://m.media-amazon.com/images/I/71NExZOFnJL._AC_UL320_.jpg\n",
      "https://m.media-amazon.com/images/I/511FHxOXCCL._AC_UL320_.jpg\n",
      "https://m.media-amazon.com/images/I/71v8LUgjaRL._AC_UL320_.jpg\n",
      "https://m.media-amazon.com/images/I/81Meum3F20L._AC_UL320_.jpg\n",
      "https://m.media-amazon.com/images/I/71nNZyy+P3L._AC_UL320_.jpg\n",
      "https://m.media-amazon.com/images/I/71t+EW+YoXL._AC_UL320_.jpg\n"
     ]
    }
   ],
   "source": [
    "urls=[]\n",
    "for trouser_image in trouser_images:\n",
    "    source=trouser_image.get_attribute('src')\n",
    "    urls.append(source)\n",
    "    print(source)"
   ]
  },
  {
   "cell_type": "code",
   "execution_count": 68,
   "id": "cbefd9fe",
   "metadata": {},
   "outputs": [
    {
     "name": "stdout",
     "output_type": "stream",
     "text": [
      "Downloading 1 of 60 images from page 2\n",
      "Downloading 2 of 60 images from page 2\n",
      "Downloading 3 of 60 images from page 2\n",
      "Downloading 4 of 60 images from page 2\n",
      "Downloading 5 of 60 images from page 2\n",
      "Downloading 6 of 60 images from page 2\n",
      "Downloading 7 of 60 images from page 2\n",
      "Downloading 8 of 60 images from page 2\n",
      "Downloading 9 of 60 images from page 2\n",
      "Downloading 10 of 60 images from page 2\n",
      "Downloading 11 of 60 images from page 2\n",
      "Downloading 12 of 60 images from page 2\n",
      "Downloading 13 of 60 images from page 2\n",
      "Downloading 14 of 60 images from page 2\n",
      "Downloading 15 of 60 images from page 2\n",
      "Downloading 16 of 60 images from page 2\n",
      "Downloading 17 of 60 images from page 2\n",
      "Downloading 18 of 60 images from page 2\n",
      "Downloading 19 of 60 images from page 2\n",
      "Downloading 20 of 60 images from page 2\n",
      "Downloading 21 of 60 images from page 2\n",
      "Downloading 22 of 60 images from page 2\n",
      "Downloading 23 of 60 images from page 2\n",
      "Downloading 24 of 60 images from page 2\n",
      "Downloading 25 of 60 images from page 2\n",
      "Downloading 26 of 60 images from page 2\n",
      "Downloading 27 of 60 images from page 2\n",
      "Downloading 28 of 60 images from page 2\n",
      "Downloading 29 of 60 images from page 2\n",
      "Downloading 30 of 60 images from page 2\n",
      "Downloading 31 of 60 images from page 2\n",
      "Downloading 32 of 60 images from page 2\n",
      "Downloading 33 of 60 images from page 2\n",
      "Downloading 34 of 60 images from page 2\n",
      "Downloading 35 of 60 images from page 2\n",
      "Downloading 36 of 60 images from page 2\n",
      "Downloading 37 of 60 images from page 2\n",
      "Downloading 38 of 60 images from page 2\n",
      "Downloading 39 of 60 images from page 2\n",
      "Downloading 40 of 60 images from page 2\n",
      "Downloading 41 of 60 images from page 2\n",
      "Downloading 42 of 60 images from page 2\n",
      "Downloading 43 of 60 images from page 2\n",
      "Downloading 44 of 60 images from page 2\n",
      "Downloading 45 of 60 images from page 2\n",
      "Downloading 46 of 60 images from page 2\n",
      "Downloading 47 of 60 images from page 2\n",
      "Downloading 48 of 60 images from page 2\n",
      "Downloading 49 of 60 images from page 2\n",
      "Downloading 50 of 60 images from page 2\n",
      "Downloading 51 of 60 images from page 2\n",
      "Downloading 52 of 60 images from page 2\n",
      "Downloading 53 of 60 images from page 2\n",
      "Downloading 54 of 60 images from page 2\n",
      "Downloading 55 of 60 images from page 2\n",
      "Downloading 56 of 60 images from page 2\n",
      "Downloading 57 of 60 images from page 2\n",
      "Downloading 58 of 60 images from page 2\n",
      "Downloading 59 of 60 images from page 2\n",
      "Downloading 60 of 60 images from page 2\n"
     ]
    }
   ],
   "source": [
    "page=2\n",
    "for index, link in enumerate(urls):\n",
    "    print(\"Downloading {0} of {1} images from page 2\".format(index+1, len(urls)))\n",
    "    response=requests.get(link)\n",
    "    with open('Trousers Men/img{0}{1}.jpeg'.format(index,page),\"wb\")as file:\n",
    "        file.write(response.content)"
   ]
  },
  {
   "cell_type": "code",
   "execution_count": 69,
   "id": "8046444f",
   "metadata": {},
   "outputs": [],
   "source": [
    "next_page=driver.find_element_by_xpath(\"//li[@class = 'a-last']//a\").click()"
   ]
  },
  {
   "cell_type": "code",
   "execution_count": 70,
   "id": "a1155999",
   "metadata": {},
   "outputs": [],
   "source": [
    "\n",
    "trouser_images=driver.find_elements_by_xpath(\"//img[@class ='s-image' ]\")"
   ]
  },
  {
   "cell_type": "code",
   "execution_count": 71,
   "id": "25e44304",
   "metadata": {},
   "outputs": [
    {
     "data": {
      "text/plain": [
       "60"
      ]
     },
     "execution_count": 71,
     "metadata": {},
     "output_type": "execute_result"
    }
   ],
   "source": [
    "len(trouser_images)"
   ]
  },
  {
   "cell_type": "code",
   "execution_count": 72,
   "id": "1a106e7d",
   "metadata": {},
   "outputs": [
    {
     "name": "stdout",
     "output_type": "stream",
     "text": [
      "https://m.media-amazon.com/images/I/71u47o-yKnL._AC_UL320_.jpg\n",
      "https://m.media-amazon.com/images/I/718TIKRkEkL._AC_UL320_.jpg\n",
      "https://m.media-amazon.com/images/I/61g8WwNtRaL._AC_UL320_.jpg\n",
      "https://m.media-amazon.com/images/I/71xIjhZmZ1L._AC_UL320_.jpg\n",
      "https://m.media-amazon.com/images/I/51BDVwJ3jUL._AC_UL320_.jpg\n",
      "https://m.media-amazon.com/images/I/71gpDZ7uWpL._AC_UL320_.jpg\n",
      "https://m.media-amazon.com/images/I/718AoRx9hgL._AC_UL320_.jpg\n",
      "https://m.media-amazon.com/images/I/613KVxLcWiL._AC_UL320_.jpg\n",
      "https://m.media-amazon.com/images/I/31-B5B0mEDL._AC_UL320_.jpg\n",
      "https://m.media-amazon.com/images/I/71ENUCgsJWL._AC_UL320_.jpg\n",
      "https://m.media-amazon.com/images/I/814BzRkGdyL._AC_UL320_.jpg\n",
      "https://m.media-amazon.com/images/I/81v6idLUNmL._AC_UL320_.jpg\n",
      "https://m.media-amazon.com/images/I/71CFXzJ+PDL._AC_UL320_.jpg\n",
      "https://m.media-amazon.com/images/I/71Ad3rsV7hL._AC_UL320_.jpg\n",
      "https://m.media-amazon.com/images/I/31-cV+HXbPL._AC_UL320_.jpg\n",
      "https://m.media-amazon.com/images/I/71Kwq8VetNL._AC_UL320_.jpg\n",
      "https://m.media-amazon.com/images/I/617XG0pMYKL._AC_UL320_.jpg\n",
      "https://m.media-amazon.com/images/I/71pkcI9b3TL._AC_UL320_.jpg\n",
      "https://m.media-amazon.com/images/I/518vKALDPuL._AC_UL320_.jpg\n",
      "https://m.media-amazon.com/images/I/61xa1gVKa1L._AC_UL320_.jpg\n",
      "https://m.media-amazon.com/images/I/61xm3OpMyeL._AC_UL320_.jpg\n",
      "https://m.media-amazon.com/images/I/611cfY8ljIL._AC_UL320_.jpg\n",
      "https://m.media-amazon.com/images/I/71lH6YbxvkL._AC_UL320_.jpg\n",
      "https://m.media-amazon.com/images/I/61-IDsC-OGL._AC_UL320_.jpg\n",
      "https://m.media-amazon.com/images/I/61VQRkuFQnL._AC_UL320_.jpg\n",
      "https://m.media-amazon.com/images/I/613SxzLf9rL._AC_UL320_.jpg\n",
      "https://m.media-amazon.com/images/I/51FC4bCeFSL._AC_UL320_.jpg\n",
      "https://m.media-amazon.com/images/I/91jyGi3GqHS._AC_UL320_.jpg\n",
      "https://m.media-amazon.com/images/I/81XBXrqHPNL._AC_UL320_.jpg\n",
      "https://m.media-amazon.com/images/I/810yMve0VFL._AC_UL320_.jpg\n",
      "https://m.media-amazon.com/images/I/31Yr9eZB-0L._AC_UL320_.jpg\n",
      "https://m.media-amazon.com/images/I/5161bTnHVeL._AC_UL320_.jpg\n",
      "https://m.media-amazon.com/images/I/71DvfNqV8yL._AC_UL320_.jpg\n",
      "https://m.media-amazon.com/images/I/61Q2Mf73SlL._AC_UL320_.jpg\n",
      "https://m.media-amazon.com/images/I/71-+eBLwiAL._AC_UL320_.jpg\n",
      "https://m.media-amazon.com/images/I/61UgU3Xn0NL._AC_UL320_.jpg\n",
      "https://m.media-amazon.com/images/I/71qr1dFDJ5L._AC_UL320_.jpg\n",
      "https://m.media-amazon.com/images/I/71pgtmd8FpL._AC_UL320_.jpg\n",
      "https://m.media-amazon.com/images/I/91p6bhNVxOL._AC_UL320_.jpg\n",
      "https://m.media-amazon.com/images/I/81vZZdbjDiS._AC_UL320_.jpg\n",
      "https://m.media-amazon.com/images/I/81ipdvhqwLL._AC_UL320_.jpg\n",
      "https://m.media-amazon.com/images/I/71bUcteV0hL._AC_UL320_.jpg\n",
      "https://m.media-amazon.com/images/I/51DrF0oNP+L._AC_UL320_.jpg\n",
      "https://m.media-amazon.com/images/I/715o+lhJgpL._AC_UL320_.jpg\n",
      "https://m.media-amazon.com/images/I/81y97wg1h3L._AC_UL320_.jpg\n",
      "https://m.media-amazon.com/images/I/81Pj8CoJy+L._AC_UL320_.jpg\n",
      "https://m.media-amazon.com/images/I/61h5UpFVZxL._AC_UL320_.jpg\n",
      "https://m.media-amazon.com/images/I/61tRfn0r7WS._AC_UL320_.jpg\n",
      "https://m.media-amazon.com/images/I/51BirVO17IL._AC_UL320_.jpg\n",
      "https://m.media-amazon.com/images/I/51l93iUs+ML._AC_UL320_.jpg\n",
      "https://m.media-amazon.com/images/I/712u8rAGGbL._AC_UL320_.jpg\n",
      "https://m.media-amazon.com/images/I/71SGsPfAvvL._AC_UL320_.jpg\n",
      "https://m.media-amazon.com/images/I/71vz6n+YCLL._AC_UL320_.jpg\n",
      "https://m.media-amazon.com/images/I/81Q9GlOgtWL._AC_UL320_.jpg\n",
      "https://m.media-amazon.com/images/I/51sJsNrF9UL._AC_UL320_.jpg\n",
      "https://m.media-amazon.com/images/I/61nGWghoAPL._AC_UL320_.jpg\n",
      "https://m.media-amazon.com/images/I/71v8LUgjaRL._AC_UL320_.jpg\n",
      "https://m.media-amazon.com/images/I/81Meum3F20L._AC_UL320_.jpg\n",
      "https://m.media-amazon.com/images/I/71t+EW+YoXL._AC_UL320_.jpg\n",
      "https://m.media-amazon.com/images/I/71Qs6TgexgL._AC_UL320_.jpg\n"
     ]
    }
   ],
   "source": [
    "urls=[]\n",
    "for trouser_image in trouser_images:\n",
    "    source=trouser_image.get_attribute('src')\n",
    "    urls.append(source)\n",
    "    print(source)"
   ]
  },
  {
   "cell_type": "code",
   "execution_count": 73,
   "id": "d97034fd",
   "metadata": {},
   "outputs": [
    {
     "name": "stdout",
     "output_type": "stream",
     "text": [
      "Downloading 1 of 60 images from page 3\n",
      "Downloading 2 of 60 images from page 3\n",
      "Downloading 3 of 60 images from page 3\n",
      "Downloading 4 of 60 images from page 3\n",
      "Downloading 5 of 60 images from page 3\n",
      "Downloading 6 of 60 images from page 3\n",
      "Downloading 7 of 60 images from page 3\n",
      "Downloading 8 of 60 images from page 3\n",
      "Downloading 9 of 60 images from page 3\n",
      "Downloading 10 of 60 images from page 3\n",
      "Downloading 11 of 60 images from page 3\n",
      "Downloading 12 of 60 images from page 3\n",
      "Downloading 13 of 60 images from page 3\n",
      "Downloading 14 of 60 images from page 3\n",
      "Downloading 15 of 60 images from page 3\n",
      "Downloading 16 of 60 images from page 3\n",
      "Downloading 17 of 60 images from page 3\n",
      "Downloading 18 of 60 images from page 3\n",
      "Downloading 19 of 60 images from page 3\n",
      "Downloading 20 of 60 images from page 3\n",
      "Downloading 21 of 60 images from page 3\n",
      "Downloading 22 of 60 images from page 3\n",
      "Downloading 23 of 60 images from page 3\n",
      "Downloading 24 of 60 images from page 3\n",
      "Downloading 25 of 60 images from page 3\n",
      "Downloading 26 of 60 images from page 3\n",
      "Downloading 27 of 60 images from page 3\n",
      "Downloading 28 of 60 images from page 3\n",
      "Downloading 29 of 60 images from page 3\n",
      "Downloading 30 of 60 images from page 3\n",
      "Downloading 31 of 60 images from page 3\n",
      "Downloading 32 of 60 images from page 3\n",
      "Downloading 33 of 60 images from page 3\n",
      "Downloading 34 of 60 images from page 3\n",
      "Downloading 35 of 60 images from page 3\n",
      "Downloading 36 of 60 images from page 3\n",
      "Downloading 37 of 60 images from page 3\n",
      "Downloading 38 of 60 images from page 3\n",
      "Downloading 39 of 60 images from page 3\n",
      "Downloading 40 of 60 images from page 3\n",
      "Downloading 41 of 60 images from page 3\n",
      "Downloading 42 of 60 images from page 3\n",
      "Downloading 43 of 60 images from page 3\n",
      "Downloading 44 of 60 images from page 3\n",
      "Downloading 45 of 60 images from page 3\n",
      "Downloading 46 of 60 images from page 3\n",
      "Downloading 47 of 60 images from page 3\n",
      "Downloading 48 of 60 images from page 3\n",
      "Downloading 49 of 60 images from page 3\n",
      "Downloading 50 of 60 images from page 3\n",
      "Downloading 51 of 60 images from page 3\n",
      "Downloading 52 of 60 images from page 3\n",
      "Downloading 53 of 60 images from page 3\n",
      "Downloading 54 of 60 images from page 3\n",
      "Downloading 55 of 60 images from page 3\n",
      "Downloading 56 of 60 images from page 3\n",
      "Downloading 57 of 60 images from page 3\n",
      "Downloading 58 of 60 images from page 3\n",
      "Downloading 59 of 60 images from page 3\n",
      "Downloading 60 of 60 images from page 3\n"
     ]
    }
   ],
   "source": [
    "page=3\n",
    "for index, link in enumerate(urls):\n",
    "    print(\"Downloading {0} of {1} images from page 3\".format(index+1, len(urls)))\n",
    "    response=requests.get(link)\n",
    "    with open('Trousers Men/img{0}{1}.jpeg'.format(index,page),\"wb\")as file:\n",
    "        file.write(response.content)"
   ]
  },
  {
   "cell_type": "code",
   "execution_count": 74,
   "id": "b5fa473a",
   "metadata": {},
   "outputs": [],
   "source": [
    "next_page=driver.find_element_by_xpath(\"//li[@class = 'a-last']//a\").click()"
   ]
  },
  {
   "cell_type": "code",
   "execution_count": 75,
   "id": "953db5cc",
   "metadata": {},
   "outputs": [],
   "source": [
    "trouser_images=driver.find_elements_by_xpath(\"//img[@class ='s-image' ]\")"
   ]
  },
  {
   "cell_type": "code",
   "execution_count": 76,
   "id": "e78a3297",
   "metadata": {},
   "outputs": [
    {
     "data": {
      "text/plain": [
       "60"
      ]
     },
     "execution_count": 76,
     "metadata": {},
     "output_type": "execute_result"
    }
   ],
   "source": [
    "len(trouser_images)"
   ]
  },
  {
   "cell_type": "code",
   "execution_count": 77,
   "id": "4158dc38",
   "metadata": {},
   "outputs": [
    {
     "name": "stdout",
     "output_type": "stream",
     "text": [
      "https://m.media-amazon.com/images/I/71u47o-yKnL._AC_UL320_.jpg\n",
      "https://m.media-amazon.com/images/I/718TIKRkEkL._AC_UL320_.jpg\n",
      "https://m.media-amazon.com/images/I/61g8WwNtRaL._AC_UL320_.jpg\n",
      "https://m.media-amazon.com/images/I/71xIjhZmZ1L._AC_UL320_.jpg\n",
      "https://m.media-amazon.com/images/I/61C-NgrKlCL._AC_UL320_.jpg\n",
      "https://m.media-amazon.com/images/I/61WxTbfAKmS._AC_UL320_.jpg\n",
      "https://m.media-amazon.com/images/I/71N2Fy81BjL._AC_UL320_.jpg\n",
      "https://m.media-amazon.com/images/I/516-sah+92L._AC_UL320_.jpg\n",
      "https://m.media-amazon.com/images/I/81QsKldDUiL._AC_UL320_.jpg\n",
      "https://m.media-amazon.com/images/I/51plBID8usL._AC_UL320_.jpg\n",
      "https://m.media-amazon.com/images/I/612jbV0LdUL._AC_UL320_.jpg\n",
      "https://m.media-amazon.com/images/I/91a9nyCI9IL._AC_UL320_.jpg\n",
      "https://m.media-amazon.com/images/I/71x0hG+XgNL._AC_UL320_.jpg\n",
      "https://m.media-amazon.com/images/I/81aKI+LqTZL._AC_UL320_.jpg\n",
      "https://m.media-amazon.com/images/I/71Nu2od3+7L._AC_UL320_.jpg\n",
      "https://m.media-amazon.com/images/I/71Nqz871FSL._AC_UL320_.jpg\n",
      "https://m.media-amazon.com/images/I/51xjDEYVrsL._AC_UL320_.jpg\n",
      "https://m.media-amazon.com/images/I/71zuILIQE8L._AC_UL320_.jpg\n",
      "https://m.media-amazon.com/images/I/818EkNmZPfL._AC_UL320_.jpg\n",
      "https://m.media-amazon.com/images/I/417rglQArhL._AC_UL320_.jpg\n",
      "https://m.media-amazon.com/images/I/61xm3OpMyeL._AC_UL320_.jpg\n",
      "https://m.media-amazon.com/images/I/611cfY8ljIL._AC_UL320_.jpg\n",
      "https://m.media-amazon.com/images/I/71lH6YbxvkL._AC_UL320_.jpg\n",
      "https://m.media-amazon.com/images/I/61-IDsC-OGL._AC_UL320_.jpg\n",
      "https://m.media-amazon.com/images/I/81946HFDiLL._AC_UL320_.jpg\n",
      "https://m.media-amazon.com/images/I/411zQRWp8AL._AC_UL320_.jpg\n",
      "https://m.media-amazon.com/images/I/41y8WJpHigL._AC_UL320_.jpg\n",
      "https://m.media-amazon.com/images/I/A1-oHgaufES._AC_UL320_.jpg\n",
      "https://m.media-amazon.com/images/I/51l93iUs+ML._AC_UL320_.jpg\n",
      "https://m.media-amazon.com/images/I/71v8LUgjaRL._AC_UL320_.jpg\n",
      "https://m.media-amazon.com/images/I/611YtN+v6sL._AC_UL320_.jpg\n",
      "https://m.media-amazon.com/images/I/71rA9XPPoGL._AC_UL320_.jpg\n",
      "https://m.media-amazon.com/images/I/610uTynDIBL._AC_UL320_.jpg\n",
      "https://m.media-amazon.com/images/I/71bKzN4M8SL._AC_UL320_.jpg\n",
      "https://m.media-amazon.com/images/I/61hWtVC3xzL._AC_UL320_.jpg\n",
      "https://m.media-amazon.com/images/I/71LwmdK7wOL._AC_UL320_.jpg\n",
      "https://m.media-amazon.com/images/I/81M5AHROROL._AC_UL320_.jpg\n",
      "https://m.media-amazon.com/images/I/61BOrDGFjeL._AC_UL320_.jpg\n",
      "https://m.media-amazon.com/images/I/71hZLqs4-lL._AC_UL320_.jpg\n",
      "https://m.media-amazon.com/images/I/71cQpOLnasS._AC_UL320_.jpg\n",
      "https://m.media-amazon.com/images/I/61jQCh4M0uL._AC_UL320_.jpg\n",
      "https://m.media-amazon.com/images/I/61c8ZcDK8gL._AC_UL320_.jpg\n",
      "https://m.media-amazon.com/images/I/71J9wn+-75L._AC_UL320_.jpg\n",
      "https://m.media-amazon.com/images/I/61V4yJT7jSL._AC_UL320_.jpg\n",
      "https://m.media-amazon.com/images/I/71qYUDMBI9L._AC_UL320_.jpg\n",
      "https://m.media-amazon.com/images/I/61jbyGIT4CL._AC_UL320_.jpg\n",
      "https://m.media-amazon.com/images/I/712JM22UMkL._AC_UL320_.jpg\n",
      "https://m.media-amazon.com/images/I/91Ob1cu-Z3L._AC_UL320_.jpg\n",
      "https://m.media-amazon.com/images/I/61DrBPyinTL._AC_UL320_.jpg\n",
      "https://m.media-amazon.com/images/I/71aG6W6iynL._AC_UL320_.jpg\n",
      "https://m.media-amazon.com/images/I/71TmDqgNcZL._AC_UL320_.jpg\n",
      "https://m.media-amazon.com/images/I/713w67PaKNL._AC_UL320_.jpg\n",
      "https://m.media-amazon.com/images/I/81-NC6TFhQL._AC_UL320_.jpg\n",
      "https://m.media-amazon.com/images/I/61sEI0NeNAL._AC_UL320_.jpg\n",
      "https://m.media-amazon.com/images/I/7159NLlHfmL._AC_UL320_.jpg\n",
      "https://m.media-amazon.com/images/I/A18MteLGg2S._AC_UL320_.jpg\n",
      "https://m.media-amazon.com/images/I/81Meum3F20L._AC_UL320_.jpg\n",
      "https://m.media-amazon.com/images/I/71v8LUgjaRL._AC_UL320_.jpg\n",
      "https://m.media-amazon.com/images/I/71t+EW+YoXL._AC_UL320_.jpg\n",
      "https://m.media-amazon.com/images/I/71ztLta2wQL._AC_UL320_.jpg\n"
     ]
    }
   ],
   "source": [
    "urls=[]\n",
    "for trouser_image in trouser_images:\n",
    "    source=trouser_image.get_attribute('src')\n",
    "    urls.append(source)\n",
    "    print(source)"
   ]
  },
  {
   "cell_type": "code",
   "execution_count": 78,
   "id": "bd4337a2",
   "metadata": {},
   "outputs": [
    {
     "name": "stdout",
     "output_type": "stream",
     "text": [
      "Downloading 1 of 60 images from page 4\n",
      "Downloading 2 of 60 images from page 4\n",
      "Downloading 3 of 60 images from page 4\n",
      "Downloading 4 of 60 images from page 4\n",
      "Downloading 5 of 60 images from page 4\n",
      "Downloading 6 of 60 images from page 4\n",
      "Downloading 7 of 60 images from page 4\n",
      "Downloading 8 of 60 images from page 4\n",
      "Downloading 9 of 60 images from page 4\n",
      "Downloading 10 of 60 images from page 4\n",
      "Downloading 11 of 60 images from page 4\n",
      "Downloading 12 of 60 images from page 4\n",
      "Downloading 13 of 60 images from page 4\n",
      "Downloading 14 of 60 images from page 4\n",
      "Downloading 15 of 60 images from page 4\n",
      "Downloading 16 of 60 images from page 4\n",
      "Downloading 17 of 60 images from page 4\n",
      "Downloading 18 of 60 images from page 4\n",
      "Downloading 19 of 60 images from page 4\n",
      "Downloading 20 of 60 images from page 4\n",
      "Downloading 21 of 60 images from page 4\n",
      "Downloading 22 of 60 images from page 4\n",
      "Downloading 23 of 60 images from page 4\n",
      "Downloading 24 of 60 images from page 4\n",
      "Downloading 25 of 60 images from page 4\n",
      "Downloading 26 of 60 images from page 4\n",
      "Downloading 27 of 60 images from page 4\n",
      "Downloading 28 of 60 images from page 4\n",
      "Downloading 29 of 60 images from page 4\n",
      "Downloading 30 of 60 images from page 4\n",
      "Downloading 31 of 60 images from page 4\n",
      "Downloading 32 of 60 images from page 4\n",
      "Downloading 33 of 60 images from page 4\n",
      "Downloading 34 of 60 images from page 4\n",
      "Downloading 35 of 60 images from page 4\n",
      "Downloading 36 of 60 images from page 4\n",
      "Downloading 37 of 60 images from page 4\n",
      "Downloading 38 of 60 images from page 4\n",
      "Downloading 39 of 60 images from page 4\n",
      "Downloading 40 of 60 images from page 4\n",
      "Downloading 41 of 60 images from page 4\n",
      "Downloading 42 of 60 images from page 4\n",
      "Downloading 43 of 60 images from page 4\n",
      "Downloading 44 of 60 images from page 4\n",
      "Downloading 45 of 60 images from page 4\n",
      "Downloading 46 of 60 images from page 4\n",
      "Downloading 47 of 60 images from page 4\n",
      "Downloading 48 of 60 images from page 4\n",
      "Downloading 49 of 60 images from page 4\n",
      "Downloading 50 of 60 images from page 4\n",
      "Downloading 51 of 60 images from page 4\n",
      "Downloading 52 of 60 images from page 4\n",
      "Downloading 53 of 60 images from page 4\n",
      "Downloading 54 of 60 images from page 4\n",
      "Downloading 55 of 60 images from page 4\n",
      "Downloading 56 of 60 images from page 4\n",
      "Downloading 57 of 60 images from page 4\n",
      "Downloading 58 of 60 images from page 4\n",
      "Downloading 59 of 60 images from page 4\n",
      "Downloading 60 of 60 images from page 4\n"
     ]
    }
   ],
   "source": [
    "page=4\n",
    "for index, link in enumerate(urls):\n",
    "    print(\"Downloading {0} of {1} images from page 4\".format(index+1, len(urls)))\n",
    "    response=requests.get(link)\n",
    "    with open('Trousers Men/img{0}{1}.jpeg'.format(index,page),\"wb\")as file:\n",
    "        file.write(response.content)"
   ]
  },
  {
   "cell_type": "code",
   "execution_count": null,
   "id": "e89ccd3d",
   "metadata": {},
   "outputs": [],
   "source": []
  }
 ],
 "metadata": {
  "kernelspec": {
   "display_name": "Python 3",
   "language": "python",
   "name": "python3"
  },
  "language_info": {
   "codemirror_mode": {
    "name": "ipython",
    "version": 3
   },
   "file_extension": ".py",
   "mimetype": "text/x-python",
   "name": "python",
   "nbconvert_exporter": "python",
   "pygments_lexer": "ipython3",
   "version": "3.8.8"
  }
 },
 "nbformat": 4,
 "nbformat_minor": 5
}
