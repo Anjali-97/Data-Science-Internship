{
 "cells": [
  {
   "cell_type": "code",
   "execution_count": 1,
   "metadata": {},
   "outputs": [
    {
     "name": "stderr",
     "output_type": "stream",
     "text": [
      "[WDM] - ====== WebDriver manager ======\n",
      "[WDM] - Current google-chrome version is 88.0.4324\n",
      "[WDM] - Get LATEST driver version for 88.0.4324\n"
     ]
    },
    {
     "name": "stdout",
     "output_type": "stream",
     "text": [
      "\n",
      "\n"
     ]
    },
    {
     "name": "stderr",
     "output_type": "stream",
     "text": [
      "[WDM] - Driver [C:\\Users\\User\\.wdm\\drivers\\chromedriver\\win32\\88.0.4324.96\\chromedriver.exe] found in cache\n"
     ]
    }
   ],
   "source": [
    "import time\n",
    "import pandas as pd\n",
    "from selenium import webdriver\n",
    "from selenium.common.exceptions import StaleElementReferenceException, NoSuchElementException\n",
    "import requests\n",
    "\n",
    "# importing regex\n",
    "import re\n",
    "\n",
    "from webdriver_manager.chrome import ChromeDriverManager\n",
    "driver = webdriver.Chrome(ChromeDriverManager().install())\n",
    "driver.get(\"http://statisticstimes.com/\")"
   ]
  },
  {
   "cell_type": "code",
   "execution_count": 2,
   "metadata": {},
   "outputs": [],
   "source": [
    "#enter economy of india page\n",
    "economy=driver.find_element_by_xpath(\"//*[@id='top']/div[2]/div[2]/button\")\n",
    "economy.click()\n",
    "india=economy.find_element_by_xpath(\"//*[@id='top']/div[2]/div[2]/div/a[3]\")\n",
    "india.click()"
   ]
  },
  {
   "cell_type": "code",
   "execution_count": 3,
   "metadata": {},
   "outputs": [],
   "source": [
    "gdp=driver.find_element_by_xpath(\"/html/body/div[2]/div[2]/div[2]/ul/li[1]/a\") \n",
    "gdp.click()"
   ]
  },
  {
   "cell_type": "code",
   "execution_count": 4,
   "metadata": {},
   "outputs": [],
   "source": [
    "Rank=[]\n",
    "State=[]\n",
    "GSDP_1=[]\n",
    "GSDP_2=[]\n",
    "Share=[]              \n",
    "GDP=[]"
   ]
  },
  {
   "cell_type": "code",
   "execution_count": 5,
   "metadata": {},
   "outputs": [],
   "source": [
    "table=driver.find_element_by_xpath(\"//table[@id='table_id']\")  \n",
    "tbody=table.find_element_by_xpath(\"//table[@id='table_id']\") \n",
    "rows = tbody.find_element_by_tag_name(\"tr\")"
   ]
  },
  {
   "cell_type": "code",
   "execution_count": 6,
   "metadata": {},
   "outputs": [],
   "source": [
    "rank=  rows.find_elements_by_xpath(\"//td[@class='data1'][1]\")\n",
    "for i in rank:\n",
    "    Rank.append(i.text)"
   ]
  },
  {
   "cell_type": "code",
   "execution_count": 7,
   "metadata": {},
   "outputs": [],
   "source": [
    "state=rows.find_elements_by_xpath(\"//td[@class='name'][2]\")\n",
    "for i in state:\n",
    "    State.append(i.text)"
   ]
  },
  {
   "cell_type": "code",
   "execution_count": 8,
   "metadata": {},
   "outputs": [],
   "source": [
    "\n",
    "gsdp_1=rows.find_elements_by_xpath(\"//td[@class='data'][3]\")\n",
    "for i in gsdp_1:\n",
    "    if i.text is None :\n",
    "        GSDP_1.append(\"--\") \n",
    "    else:\n",
    "        GSDP_1.append(i.text)"
   ]
  },
  {
   "cell_type": "code",
   "execution_count": 9,
   "metadata": {},
   "outputs": [],
   "source": [
    "gsdp_2=rows.find_elements_by_xpath(\"//td[@class='data sorting_1' ]\")\n",
    "for i in gsdp_2:\n",
    "    if i.text is None :\n",
    "        GSDP_2.append(\"--\") \n",
    "    else:\n",
    "        GSDP_2.append(i.text)"
   ]
  },
  {
   "cell_type": "code",
   "execution_count": 10,
   "metadata": {},
   "outputs": [],
   "source": [
    "share=rows.find_elements_by_xpath(\"//td[@class='data'][5]\")\n",
    "for i in share:\n",
    "    if i.text is None :\n",
    "        Share.append(\"--\") \n",
    "    else:\n",
    "        Share.append(i.text)"
   ]
  },
  {
   "cell_type": "code",
   "execution_count": 11,
   "metadata": {},
   "outputs": [],
   "source": [
    "gdp=rows.find_elements_by_xpath(\"//td[@class='data'][5]\")\n",
    "for i in share:\n",
    "    if i.text is None :\n",
    "        Share.append(\"--\") \n",
    "    else:\n",
    "        Share.append(i.text)"
   ]
  },
  {
   "cell_type": "code",
   "execution_count": 12,
   "metadata": {},
   "outputs": [
    {
     "data": {
      "text/plain": [
       "['1',\n",
       " '2',\n",
       " '3',\n",
       " '4',\n",
       " '5',\n",
       " '6',\n",
       " '7',\n",
       " '8',\n",
       " '9',\n",
       " '10',\n",
       " '11',\n",
       " '12',\n",
       " '13',\n",
       " '14',\n",
       " '15',\n",
       " '16',\n",
       " '17',\n",
       " '18',\n",
       " '19',\n",
       " '20',\n",
       " '21',\n",
       " '22',\n",
       " '23',\n",
       " '24',\n",
       " '25',\n",
       " '26',\n",
       " '27',\n",
       " '28',\n",
       " '29',\n",
       " '30',\n",
       " '31',\n",
       " '32',\n",
       " '33',\n",
       " '',\n",
       " '1',\n",
       " '2',\n",
       " '3',\n",
       " '4',\n",
       " '5',\n",
       " '6',\n",
       " '7',\n",
       " '8',\n",
       " '9',\n",
       " '10',\n",
       " '11',\n",
       " '12',\n",
       " '13',\n",
       " '14',\n",
       " '15',\n",
       " '16',\n",
       " '17',\n",
       " '18',\n",
       " '19',\n",
       " '20',\n",
       " '21',\n",
       " '22',\n",
       " '23',\n",
       " '24',\n",
       " '25',\n",
       " '26',\n",
       " '27',\n",
       " '28',\n",
       " '29',\n",
       " '30',\n",
       " '31',\n",
       " '32',\n",
       " '33',\n",
       " '']"
      ]
     },
     "execution_count": 12,
     "metadata": {},
     "output_type": "execute_result"
    }
   ],
   "source": [
    "Rank"
   ]
  },
  {
   "cell_type": "code",
   "execution_count": 13,
   "metadata": {},
   "outputs": [
    {
     "data": {
      "text/plain": [
       "[]"
      ]
     },
     "execution_count": 13,
     "metadata": {},
     "output_type": "execute_result"
    }
   ],
   "source": [
    "State"
   ]
  },
  {
   "cell_type": "code",
   "execution_count": 14,
   "metadata": {},
   "outputs": [
    {
     "data": {
      "text/plain": [
       "['398.145',\n",
       " '246.529',\n",
       " '239.656',\n",
       " '227.276',\n",
       " '225.798',\n",
       " '164.820',\n",
       " '142.543',\n",
       " '130.501',\n",
       " '130.210',\n",
       " '122.431',\n",
       " '118.206',\n",
       " '117.180',\n",
       " '111.024',\n",
       " '80.204',\n",
       " '79.601',\n",
       " '73.768',\n",
       " '47.769',\n",
       " '45.982',\n",
       " '44.945',\n",
       " '37.186',\n",
       " '23.584',\n",
       " '23.265',\n",
       " '11.065',\n",
       " '7.538',\n",
       " '6.369',\n",
       " '5.207',\n",
       " '5.063',\n",
       " '4.344',\n",
       " '4.215',\n",
       " '4.126',\n",
       " '3.721',\n",
       " '3.370',\n",
       " '-',\n",
       " '',\n",
       " '-',\n",
       " '1,167,776',\n",
       " '1,015,735',\n",
       " '1,035,131',\n",
       " '-',\n",
       " '713,376',\n",
       " '630,693',\n",
       " '594,806',\n",
       " '595,605',\n",
       " '496,798',\n",
       " '-',\n",
       " '568,265',\n",
       " '514,983',\n",
       " '377,276',\n",
       " '374,015',\n",
       " '344,437',\n",
       " '-',\n",
       " '218,232',\n",
       " '210,837',\n",
       " '-',\n",
       " '107,171',\n",
       " '-',\n",
       " '56,810',\n",
       " '35,980',\n",
       " '-',\n",
       " '22,291',\n",
       " '23,564',\n",
       " '18,549',\n",
       " '17,060',\n",
       " '-',\n",
       " '-',\n",
       " '17,797',\n",
       " '-',\n",
       " '']"
      ]
     },
     "execution_count": 14,
     "metadata": {},
     "output_type": "execute_result"
    }
   ],
   "source": [
    "GSDP_1"
   ]
  },
  {
   "cell_type": "code",
   "execution_count": 15,
   "metadata": {},
   "outputs": [
    {
     "data": {
      "text/plain": [
       "['2,632,792',\n",
       " '1,630,208',\n",
       " '1,584,764',\n",
       " '1,502,899',\n",
       " '1,493,127',\n",
       " '1,089,898',\n",
       " '942,586',\n",
       " '862,957',\n",
       " '861,031',\n",
       " '809,592',\n",
       " '781,653',\n",
       " '774,870',\n",
       " '734,163',\n",
       " '530,363',\n",
       " '526,376',\n",
       " '487,805',\n",
       " '315,881',\n",
       " '304,063',\n",
       " '297,204',\n",
       " '245,895',\n",
       " '155,956',\n",
       " '153,845',\n",
       " '73,170',\n",
       " '49,845',\n",
       " '42,114',\n",
       " '34,433',\n",
       " '33,481',\n",
       " '28,723',\n",
       " '27,870',\n",
       " '27,283',\n",
       " '24,603',\n",
       " '22,287',\n",
       " '-',\n",
       " '2,332,992',\n",
       " '1,465,361',\n",
       " '1,404,761',\n",
       " '1,351,553',\n",
       " '1,322,936',\n",
       " '995,502',\n",
       " '845,247',\n",
       " '782,370',\n",
       " '776,140',\n",
       " '737,156',\n",
       " '707,542',\n",
       " '704,529',\n",
       " '666,075',\n",
       " '486,776',\n",
       " '472,506',\n",
       " '428,031',\n",
       " '282,782',\n",
       " '271,990',\n",
       " '266,537',\n",
       " '221,871',\n",
       " '133,303',\n",
       " '129,877',\n",
       " '66,060',\n",
       " '44,835',\n",
       " '37,571',\n",
       " '31,415',\n",
       " '29,544',\n",
       " '25,323',\n",
       " '25,141',\n",
       " '24,534',\n",
       " '22,488',\n",
       " '20,947',\n",
       " '-']"
      ]
     },
     "execution_count": 15,
     "metadata": {},
     "output_type": "execute_result"
    }
   ],
   "source": [
    "\n",
    "GSDP_2"
   ]
  },
  {
   "cell_type": "code",
   "execution_count": 16,
   "metadata": {},
   "outputs": [
    {
     "data": {
      "text/plain": [
       "['2,039,074',\n",
       " '1,215,307',\n",
       " '1,123,982',\n",
       " '1,186,379',\n",
       " '1,091,077',\n",
       " '739,525',\n",
       " '677,428',\n",
       " '621,301',\n",
       " '612,828',\n",
       " '522,009',\n",
       " '559,412',\n",
       " '590,569',\n",
       " '531,085',\n",
       " '375,651',\n",
       " '397,669',\n",
       " '376,877',\n",
       " '234,048',\n",
       " '231,182',\n",
       " '224,986',\n",
       " '193,273',\n",
       " '112,755',\n",
       " '117,851',\n",
       " '57,787',\n",
       " '36,963',\n",
       " '31,192',\n",
       " '23,013',\n",
       " '24,682',\n",
       " '18,722',\n",
       " '19,300',\n",
       " '17,647',\n",
       " '16,676',\n",
       " '16,478',\n",
       " '-',\n",
       " '14,565,951',\n",
       " '12,219,693',\n",
       " '2,039,074',\n",
       " '1,215,307',\n",
       " '1,123,982',\n",
       " '1,186,379',\n",
       " '1,091,077',\n",
       " '739,525',\n",
       " '677,428',\n",
       " '621,301',\n",
       " '612,828',\n",
       " '522,009',\n",
       " '559,412',\n",
       " '590,569',\n",
       " '531,085',\n",
       " '375,651',\n",
       " '397,669',\n",
       " '376,877',\n",
       " '234,048',\n",
       " '231,182',\n",
       " '224,986',\n",
       " '193,273',\n",
       " '112,755',\n",
       " '117,851',\n",
       " '57,787',\n",
       " '36,963',\n",
       " '31,192',\n",
       " '23,013',\n",
       " '24,682',\n",
       " '18,722',\n",
       " '19,300',\n",
       " '17,647',\n",
       " '16,676',\n",
       " '16,478',\n",
       " '-',\n",
       " '14,565,951',\n",
       " '12,219,693']"
      ]
     },
     "execution_count": 16,
     "metadata": {},
     "output_type": "execute_result"
    }
   ],
   "source": [
    "Share"
   ]
  },
  {
   "cell_type": "code",
   "execution_count": 17,
   "metadata": {},
   "outputs": [
    {
     "data": {
      "text/plain": [
       "[]"
      ]
     },
     "execution_count": 17,
     "metadata": {},
     "output_type": "execute_result"
    }
   ],
   "source": [
    "GDP"
   ]
  },
  {
   "cell_type": "code",
   "execution_count": null,
   "metadata": {},
   "outputs": [],
   "source": []
  }
 ],
 "metadata": {
  "kernelspec": {
   "display_name": "Python 3",
   "language": "python",
   "name": "python3"
  },
  "language_info": {
   "codemirror_mode": {
    "name": "ipython",
    "version": 3
   },
   "file_extension": ".py",
   "mimetype": "text/x-python",
   "name": "python",
   "nbconvert_exporter": "python",
   "pygments_lexer": "ipython3",
   "version": "3.8.5"
  }
 },
 "nbformat": 4,
 "nbformat_minor": 4
}
