{
 "cells": [
  {
   "cell_type": "code",
   "execution_count": null,
   "metadata": {},
   "outputs": [],
   "source": [
    "import time\n",
    "import pandas as pd\n",
    "from selenium import webdriver\n",
    "\n",
    "from webdriver_manager.chrome import ChromeDriverManager\n",
    "driver = webdriver.Chrome(ChromeDriverManager().install())\n",
    "driver.get('https://www.naukri.com/')\n",
    "search_job=driver.find_element_by_id('qsb-keyword-sugg')\n",
    "search_job.send_keys(\"Data Scientist\")\n",
    "driver.find_element_by_xpath(\"//*[@id='qsb-location-sugg']\").send_keys(\"Banglore\")\n",
    "search_button = driver.find_elements_by_xpath('//*[@id=\"root\"]/div[3]/div[2]/section/div/form/div[3]/button')[0] \n",
    "search_button.click()\n",
    "job_details = [0,6]\n",
    "time.sleep(5)\n",
    "driver.get('https://www.naukri.com/data-scientist-jobs-in-delhi?k=data%20scientist&l=delhi/')\n",
    "\n",
    "job_list = driver.find_elements_by_xpath(\"//div[@data-tn-component='organicJob']\")\n",
    "for each_job in job_list:\n",
    "    # Getting job info\n",
    "    job_title = each_job.find_elements_by_xpath(\".//a[@name='Data Scientist/Data Analyst-immediate']\")[0]\n",
    "    job_company = each_job.find_elements_by_xpath(\".//a[@class='subTitle ellipsis fleft']\")[0]\n",
    "    job_location = each_job.find_elements_by_xpath(\".//span[@class='location accessible-contrast-color-location']\")[0]\n",
    "    job_summary = each_job.find_elements_by_xpath(\".//div[@class='summary']\")[0]\n",
    "    job_publish_date = each_job.find_elements_by_xpath(\".//span[@class='date ']\")[0]\n",
    "    # Saving job info \n",
    "    job_info = [job_title.text, job_company.text, job_location.text, job_summary.text, job_publish_date.text]\n",
    "    # Saving into job_details\n",
    "    job_details.append(job_info)\n",
    "driver.quit()\n",
    "\n",
    "job_details_df = pd.DataFrame(job_details)\n",
    "job_details_df.columns = ['title','company','location','summary','publish_date']\n",
    "job_details_df.to_csv('job_details.csv', index=False)"
   ]
  }
 ],
 "metadata": {
  "kernelspec": {
   "display_name": "Python 3",
   "language": "python",
   "name": "python3"
  },
  "language_info": {
   "codemirror_mode": {
    "name": "ipython",
    "version": 3
   },
   "file_extension": ".py",
   "mimetype": "text/x-python",
   "name": "python",
   "nbconvert_exporter": "python",
   "pygments_lexer": "ipython3",
   "version": "3.8.5"
  }
 },
 "nbformat": 4,
 "nbformat_minor": 4
}
